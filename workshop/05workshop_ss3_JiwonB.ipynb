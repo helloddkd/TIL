{
 "cells": [
  {
   "cell_type": "markdown",
   "metadata": {},
   "source": [
    "# Python Workshop 05"
   ]
  },
  {
   "cell_type": "markdown",
   "metadata": {},
   "source": [
    "# 1. Palindrome\n",
    "\n",
    "> Palindrome은 앞에서부터 읽었을 때와 뒤에서부터 읽었을 때 같은 단어를 뜻한다. 따라서, ‘a’ ‘nan’ ’토마토’ 모두 palindrome에 해당합니다.  따라서, 단어를 입력받아 Palindrome을 검증하고 True나 False를 리턴하는 함수 palindrome(word)를 만들어보세요.\n"
   ]
  },
  {
   "cell_type": "code",
   "execution_count": 6,
   "metadata": {},
   "outputs": [
    {
     "data": {
      "text/plain": [
       "False"
      ]
     },
     "execution_count": 6,
     "metadata": {},
     "output_type": "execute_result"
    }
   ],
   "source": [
    "def palindrome (wd=''):\n",
    "    a = len(wd)//2\n",
    "    if len(wd)%2 : #홀수 \n",
    "        if ''.join(reversed(wd[:a])) == wd[a+1:]:\n",
    "            return True\n",
    "        else:\n",
    "            return False\n",
    "    else: #짝수\n",
    "        if ''.join(reversed(wd[:a])) == wd[a:]:\n",
    "            return True\n",
    "        else: \n",
    "            return False\n",
    "\n",
    "palindrome('토마토')\n",
    "palindrome('na n')"
   ]
  },
  {
   "cell_type": "code",
   "execution_count": 1,
   "metadata": {},
   "outputs": [
    {
     "data": {
      "text/plain": [
       "True"
      ]
     },
     "execution_count": 1,
     "metadata": {},
     "output_type": "execute_result"
    }
   ],
   "source": [
    "def palindrome (wd=''):\n",
    "    wd = wd.lower()\n",
    "    wd = wd.replace(' ', '')\n",
    "    a = len(wd)//2\n",
    "    if len(wd)%2 : #홀수 \n",
    "        if ''.join(reversed(wd[:a])) == wd[a+1:]:\n",
    "            return True\n",
    "        else:\n",
    "            return False\n",
    "    else: #짝수\n",
    "        if ''.join(reversed(wd[:a])) == wd[a:]:\n",
    "            return True\n",
    "        else: \n",
    "            return False\n",
    "\n",
    "\n",
    "palindrome('A Santa at NASa')"
   ]
  }
 ],
 "metadata": {
  "kernelspec": {
   "display_name": "Python 3",
   "language": "python",
   "name": "python3"
  },
  "language_info": {
   "codemirror_mode": {
    "name": "ipython",
    "version": 3
   },
   "file_extension": ".py",
   "mimetype": "text/x-python",
   "name": "python",
   "nbconvert_exporter": "python",
   "pygments_lexer": "ipython3",
   "version": "3.6.7"
  }
 },
 "nbformat": 4,
 "nbformat_minor": 2
}
