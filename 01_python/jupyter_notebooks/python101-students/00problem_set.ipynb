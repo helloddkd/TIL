{
 "cells": [
  {
   "cell_type": "markdown",
   "metadata": {},
   "source": [
    "# Problem set"
   ]
  },
  {
   "cell_type": "markdown",
   "metadata": {},
   "source": [
    "## 190108"
   ]
  },
  {
   "cell_type": "markdown",
   "metadata": {},
   "source": [
    "## 1. 이상한 덧셈\n",
    "> 숫자로 구성된 리스트에서 양의 정수의 합을 구하는 함수, 'positive_sum'을 만들어 보아요.\n",
    "\n",
    "ex) ```python\n",
    "positive_sum([1, -10, 2]) # 3\n",
    "positive_sum([-1, -2, -3, -4]) # 0\n",
    "```"
   ]
  },
  {
   "cell_type": "code",
   "execution_count": null,
   "metadata": {},
   "outputs": [],
   "source": [
    "def positive_sum(li):\n",
    "    s = 0\n",
    "    for num in li:\n",
    "        if num > 0 :\n",
    "            s+=num\n",
    "    return s\n",
    "\n",
    "print(positive_sum([1, -10, 2])) # 3\n",
    "print(positive_sum([-1, -2, -3, -4])) # 0"
   ]
  },
  {
   "cell_type": "code",
   "execution_count": null,
   "metadata": {},
   "outputs": [],
   "source": [
    "#겨스님\n",
    "def positive_num (numbers):\n",
    "    total = 0\n",
    "    for number in numbers:\n",
    "        if number > 0:\n",
    "            total+= number\n",
    "    return total\n",
    "\n",
    "#파이썬 고급문법!\n",
    "def pos_sum(numbers):\n",
    "    return sum(x for x in numbers if x > 0)\n",
    "\n",
    "print(pos_sum([1, -10, 2])) # 3\n",
    "print(pos_sum([-1, -2, -3, -4])) # 0"
   ]
  },
  {
   "cell_type": "markdown",
   "metadata": {},
   "source": [
    "## 2. 문자열 탐색\n",
    "> 문자열 요소로만 이루어진 리스트를 넣었을 때, 문자열의 길이가 2 이상이고 주어진 문자열의 첫 번째와 마지막 문자가 같은 문자열의 수를 세는 함수 `start_end`를 작성하세요.\n",
    "\n",
    "예시)\n",
    "```python\n",
    "start_end(['level', 'asdwe', 's', 'ababsdfa', 'q1q']) # 3\n",
    "```"
   ]
  },
  {
   "cell_type": "code",
   "execution_count": null,
   "metadata": {},
   "outputs": [],
   "source": [
    "def start_end (li):\n",
    "    count = 0\n",
    "    for word in li:\n",
    "        if len(word) != 1 and word[0] == word[-1]:\n",
    "            count += 1\n",
    "    return count\n",
    "\n",
    "\n",
    "start_end(['level', 'asdwe', 's', 'ababsdfa', 'q1q'])  #s를 세지 않아야 함."
   ]
  },
  {
   "cell_type": "markdown",
   "metadata": {},
   "source": [
    "## 3. Collatz\n",
    "> Colatz 추측: 어떤 자연수 n이던지, 다음과 같은 작업을반복하면 1로 만들 수 있다.\n",
    "1. n이 짝수면 2로 나눈다\n",
    "2. n이 홀수라면 3을 곱하고 1을 더한다.\n",
    "3. 결과로 나온 수에 1/2의 작업을 1이 될때까지 만복한다.\n",
    "\n",
    "예시) n=6 인 경우 6 => 3 => 10 => 5 => 16 => 8 => 4 => 2 => 1 이 되며, 8번만에 1이 됩니다. 자연수 n이 들어왔을 때 몇 번의 작업만에 1이되는지를 리턴하는 함수를 완성하세요.\n",
    "\n",
    "> 단! 500번을 넘어가도 1이 되지않는다면,-1을 리턴할게요.\n",
    "\n",
    "예시)\n",
    "```python\n",
    "collatz(6) # 8\n",
    "collatz(8) # 3\n",
    "collatz(6263313) # -1\n",
    "```"
   ]
  },
  {
   "cell_type": "code",
   "execution_count": 33,
   "metadata": {},
   "outputs": [
    {
     "name": "stdout",
     "output_type": "stream",
     "text": [
      "9\n",
      "3\n",
      "-1\n"
     ]
    }
   ],
   "source": [
    "#재귀함수..?\n",
    "def collatz(n, count=0):\n",
    "    if n == 1 and count< 500:\n",
    "        return count\n",
    "    elif count == 500:\n",
    "        return -1\n",
    "    else: \n",
    "        if n % 2 == 0:\n",
    "            n= n //2\n",
    "            count += 1\n",
    "        else: \n",
    "            n= n * 3 + 1\n",
    "            count += 1\n",
    "        return collatz(n, count)\n",
    "\n",
    "print(collatz(12)) #9 \n",
    "print(collatz(8)) # 8 => 4 => 2 => 1\n",
    "print(collatz(626331)) "
   ]
  },
  {
   "cell_type": "code",
   "execution_count": 34,
   "metadata": {},
   "outputs": [
    {
     "name": "stdout",
     "output_type": "stream",
     "text": [
      "9\n",
      "3\n",
      "-1\n"
     ]
    }
   ],
   "source": [
    "def collatz(num):\n",
    "    for i in range(500):\n",
    "        if num % 2 :\n",
    "            num = num * 3 + 1\n",
    "        else:\n",
    "            num = num / 2\n",
    "        if num == 1:\n",
    "            return i+1\n",
    "    return -1\n",
    "\n",
    "#와 짱깔끔해 겨스님답\n",
    "print(collatz(12))  \n",
    "print(collatz(8)) \n",
    "print(collatz(626331)) "
   ]
  },
  {
   "cell_type": "markdown",
   "metadata": {},
   "source": [
    "### 4. 솔로 천국\n",
    "> 리스트가 주어질때, 리스트의 요소 'e'는 'range(0,10)'에 포함되는 자연수이다. 리스트에서 연속적으로 나타나는 숫자는 하나만 남기고 전부 제거하여 'return'하는 함수 'lonely'를 작성해 보시오. 이때 제거된 후 남은 수들을 반환할 때는 리스트의 요소들이 순서를 유지해야 합니다.\n",
    "\n",
    "예시)\n",
    "```python\n",
    "lonely([1,1,3,3,0,1,1,3,0,3)] # [1,3,0]\n",
    "lonely([4,4,3,3,4] # [4,3]\n",
    "```"
   ]
  },
  {
   "cell_type": "code",
   "execution_count": 13,
   "metadata": {},
   "outputs": [
    {
     "name": "stdout",
     "output_type": "stream",
     "text": [
      "[1, 3, 0]\n",
      "[4, 3]\n"
     ]
    }
   ],
   "source": [
    "def lonely(li, result=[]):\n",
    "    look = li[0]\n",
    "    count = 0\n",
    "    for num in li:\n",
    "        if num == look:\n",
    "            count += 1\n",
    "        else:\n",
    "            del(li[0:count])\n",
    "            break\n",
    "    else:\n",
    "        li = []\n",
    "    if not look in result:\n",
    "        result = result + [look]\n",
    "    \n",
    "    if li == []:\n",
    "        return result\n",
    "    else:\n",
    "        return lonely(li, result)\n",
    "    \n",
    "print(lonely([1,1,3,3,0,1,1,3,0,3])) \n",
    "print(lonely([4,4,3,3,4]))"
   ]
  },
  {
   "cell_type": "code",
   "execution_count": 16,
   "metadata": {},
   "outputs": [
    {
     "name": "stdout",
     "output_type": "stream",
     "text": [
      "[0, 1, 3]\n",
      "[3, 4]\n"
     ]
    }
   ],
   "source": [
    "def lonely(numbers):\n",
    "    return list(set(numbers))\n",
    "print(lonely([1,1,3,3,0,1,1,3,0,3])) \n",
    "print(lonely([4,4,3,3,4]))"
   ]
  },
  {
   "cell_type": "code",
   "execution_count": 21,
   "metadata": {},
   "outputs": [
    {
     "name": "stdout",
     "output_type": "stream",
     "text": [
      "[1, 3, 0]\n",
      "[4, 3]\n"
     ]
    }
   ],
   "source": [
    "def lonely(numbers):\n",
    "    result = []\n",
    "    for number in numbers:\n",
    "        if number not in result :\n",
    "            result.append(number)\n",
    "    return result\n",
    "    \n",
    "print(lonely([1,1,3,3,0,1,1,3,0,3])) \n",
    "print(lonely([4,4,3,3,4]))      "
   ]
  },
  {
   "cell_type": "markdown",
   "metadata": {},
   "source": [
    "### 5. RGB 삼각형\n",
    "\n",
    "bg -> r\n",
    "rg -> b\n",
    "br -> g\n",
    "rr -> r\n",
    "gg -> g\n",
    "bb -> b\n",
    "\n",
    "R R G B R G BB\n",
    "\n",
    "RGB 가 섞인 문자열이 들어오면 병합되는 대로 합쳐 마지막색깔만 리턴해라\n"
   ]
  },
  {
   "cell_type": "code",
   "execution_count": 1,
   "metadata": {},
   "outputs": [
    {
     "name": "stdout",
     "output_type": "stream",
     "text": [
      "G\n"
     ]
    }
   ],
   "source": [
    "col = {'R', 'G', 'B'}\n",
    "def merge_color(put):\n",
    "    if len(put) == 1:\n",
    "        return put\n",
    "    else: \n",
    "        if put[0] == put[1]:\n",
    "            a = put[0]\n",
    "            put = put[2:]\n",
    "            put = a + put\n",
    "        else:\n",
    "            a= str(col - {put[0],put[1]})  \n",
    "            put = put[2:]\n",
    "            put = a[2] + put\n",
    "        return merge_color(put)\n",
    "\n",
    "print(merge_color('RGBBBRGG')) "
   ]
  },
  {
   "cell_type": "markdown",
   "metadata": {},
   "source": [
    "# 6. 홀수개를 찾아라\n",
    "> 입력으로 list 한 개 리스트에는 1개의 숫자만 홀수 개 들어있다.\n",
    "1개의 홀수개 숫자를 리턴하는 find_odd 함수를 작성하세요.\n",
    "\n",
    "```python\n",
    "1122333 -> 3\n",
    "212 -> 1\n",
    "1223221 ->3\n",
    "121 -> 2\n",
    "```\n"
   ]
  },
  {
   "cell_type": "code",
   "execution_count": 12,
   "metadata": {},
   "outputs": [
    {
     "data": {
      "text/plain": [
       "3"
      ]
     },
     "execution_count": 12,
     "metadata": {},
     "output_type": "execute_result"
    }
   ],
   "source": [
    "def find_odd_1(numbers):\n",
    "    for uniq in list(set(numbers)):\n",
    "        if numbers.count(uniq) % 2:\n",
    "            return uniq\n",
    "find_odd([1,2,2,1,3])"
   ]
  },
  {
   "cell_type": "code",
   "execution_count": null,
   "metadata": {},
   "outputs": [],
   "source": [
    "def find_odd_2 (numbers):\n",
    "    numbers.sort()\n",
    "    #두 개씩 비교해서 다르면 출력\n"
   ]
  },
  {
   "cell_type": "markdown",
   "metadata": {},
   "source": []
  }
 ],
 "metadata": {
  "kernelspec": {
   "display_name": "Python 3",
   "language": "python",
   "name": "python3"
  },
  "language_info": {
   "codemirror_mode": {
    "name": "ipython",
    "version": 3
   },
   "file_extension": ".py",
   "mimetype": "text/x-python",
   "name": "python",
   "nbconvert_exporter": "python",
   "pygments_lexer": "ipython3",
   "version": "3.6.7"
  }
 },
 "nbformat": 4,
 "nbformat_minor": 2
}
