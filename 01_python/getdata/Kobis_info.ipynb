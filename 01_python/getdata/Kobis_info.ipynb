{
 "cells": [
  {
   "cell_type": "code",
   "execution_count": 6,
   "metadata": {},
   "outputs": [],
   "source": [
    "f = open('boxoffice.csv', 'rt', encoding='utf8')\n",
    "s=f.read()\n",
    "f.close()"
   ]
  },
  {
   "cell_type": "code",
   "execution_count": 28,
   "metadata": {},
   "outputs": [
    {
     "name": "stdout",
     "output_type": "stream",
     "text": [
      "['20184105', '20176251', '20189463', '20180290', '20183915', '20185485', '20184574', '20186281', '20170658', '20175547', '20183785', '20184187', '20182421', '20168773', '20183479', '20183238', '20177552', '20179230', '20183375', '20189843', '20182082', '20178825', '20183745', '20177538', '20184481', '20181905', '20176814', '20183073', '20181171', '20183007', '20182966', '20183050', '20182935', '20182669', '20186822', '20170513', '20189869', '20174981', '20010291', '20179006', '20181404', '20180523', '20182693', '']\n"
     ]
    }
   ],
   "source": [
    "result = []\n",
    "for line in k:\n",
    "    result.append(line.split(','))\n",
    "\n",
    "fin = []\n",
    "for num in range(1,len(result)):\n",
    "    fin.append(result[num][0])\n",
    "    \n",
    "print(fin)"
   ]
  },
  {
   "cell_type": "code",
   "execution_count": 33,
   "metadata": {},
   "outputs": [],
   "source": [
    "import requests\n",
    "key= '555226eeca79dde09ad09563c98d1523'\n",
    "\n",
    "for i in range(0,43):\n",
    "    movCd = fin[i]\n",
    "    URL= f'http://www.kobis.or.kr/kobisopenapi/webservice/rest/movie/searchMovieInfo.json?key={key}&movieCd={movCd}'\n",
    "    data = requests.get(URL).json()\n",
    "    \n"
   ]
  },
  {
   "cell_type": "code",
   "execution_count": 34,
   "metadata": {},
   "outputs": [
    {
     "name": "stdout",
     "output_type": "stream",
     "text": [
      "{'movieInfoResult': {'movieInfo': {'movieCd': '20182693', 'movieNm': '구스범스: 몬스터의 역습', 'movieNmEn': 'Goosebumps 2: Haunted Halloween', 'movieNmOg': '', 'showTm': '89', 'prdtYear': '2018', 'openDt': '20181107', 'prdtStatNm': '개봉', 'typeNm': '장편', 'nations': [{'nationNm': '미국'}], 'genres': [{'genreNm': '판타지'}, {'genreNm': '어드벤처'}], 'directors': [{'peopleNm': '아리 산델', 'peopleNmEn': 'Ari Sandel'}], 'actors': [{'peopleNm': '잭 블랙', 'peopleNmEn': 'Jack Black', 'cast': '', 'castEn': ''}, {'peopleNm': '켄 정', 'peopleNmEn': 'Ken Jeong', 'cast': '', 'castEn': ''}], 'showTypes': [{'showTypeGroupNm': '2D', 'showTypeNm': '디지털'}], 'companys': [{'companyCd': '20173221', 'companyNm': '소니픽쳐스엔터테인먼트코리아주식회사극장배급지점', 'companyNmEn': 'Sony Pictures Releasing International', 'companyPartNm': '배급사'}, {'companyCd': '20173221', 'companyNm': '소니픽쳐스엔터테인먼트코리아주식회사극장배급지점', 'companyNmEn': 'Sony Pictures Releasing International', 'companyPartNm': '수입사'}], 'audits': [{'auditNo': '2018-MF02084', 'watchGradeNm': '12세이상관람가'}], 'staffs': []}, 'source': '영화진흥위원회'}}\n"
     ]
    }
   ],
   "source": [
    "print(data)"
   ]
  }
 ],
 "metadata": {
  "kernelspec": {
   "display_name": "Python 3",
   "language": "python",
   "name": "python3"
  },
  "language_info": {
   "codemirror_mode": {
    "name": "ipython",
    "version": 3
   },
   "file_extension": ".py",
   "mimetype": "text/x-python",
   "name": "python",
   "nbconvert_exporter": "python",
   "pygments_lexer": "ipython3",
   "version": "3.6.7"
  }
 },
 "nbformat": 4,
 "nbformat_minor": 2
}
