{
 "cells": [
  {
   "cell_type": "code",
   "execution_count": 15,
   "metadata": {
    "scrolled": false
   },
   "outputs": [],
   "source": [
    "import requests\n",
    "import os\n",
    "import csv\n",
    "\n",
    "KORBIS_KEY = os.getenv('KORBIS_KEY')\n",
    "result = []\n",
    "\n",
    "Dates = ['20190113', '20190106', '20181230', '20181223', '20181216', '20181209', '20181202', '20181125', '20181118', '20181111']\n",
    "\n",
    "for j in range(0,10):\n",
    "    targetDt = Dates[j]\n",
    "    URL = f'http://www.kobis.or.kr/kobisopenapi/webservice/rest/boxoffice/searchWeeklyBoxOfficeList.json?key={KORBIS_KEY}&targetDt={targetDt}&weekGb=0'\n",
    "    data_set = requests.get(URL).json()\n",
    "    data = data_set['boxOfficeResult']['weeklyBoxOfficeList']\n",
    "    for i in range(0,10):\n",
    "        data[i]['targetDt'] = targetDt\n",
    "        movie_info = []\n",
    "        if data[i]['movieNm'] not in sum(result, []):\n",
    "            movie_info.append(data[i]['movieCd'])\n",
    "            movie_info.append(data[i]['movieNm'])\n",
    "            movie_info.append(data[i]['audiAcc'])\n",
    "            movie_info.append(data[i]['targetDt'])\n",
    "            movie_info.append('\\n')\n",
    "            result.append(movie_info)\n",
    "            \n",
    "\n",
    "        \n",
    "f = open('boxoffice.csv', 'w+', encoding='utf-8')\n",
    "\n",
    "f.write('movie_code, title, audience, recorded_at \\n')\n",
    "\n",
    "for movie in result:\n",
    "    line = \", \".join(movie)\n",
    "    f.write(line)\n",
    "\n",
    "f.close()"
   ]
  }
 ],
 "metadata": {
  "kernelspec": {
   "display_name": "Python 3",
   "language": "python",
   "name": "python3"
  },
  "language_info": {
   "codemirror_mode": {
    "name": "ipython",
    "version": 3
   },
   "file_extension": ".py",
   "mimetype": "text/x-python",
   "name": "python",
   "nbconvert_exporter": "python",
   "pygments_lexer": "ipython3",
   "version": "3.7.2"
  }
 },
 "nbformat": 4,
 "nbformat_minor": 2
}
