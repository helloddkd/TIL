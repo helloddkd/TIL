{
 "cells": [
  {
   "cell_type": "markdown",
   "metadata": {},
   "source": [
    "# 1. KOBIS\n",
    "\n",
    ">URL = f'http://www.kobis.or.kr/kobisopenapi/webservice/rest/boxoffice/searchWeeklyBoxOfficeList.json?key={KORBIS_KEY}&targetDt={targetDt}&weekGb=0'\n",
    "\n",
    "\n",
    ">Dates = ['20190113', '20190106', '20181230', '20181223', '20181216', '20181209', '20181202', '20181125', '20181118', '20181111']\n",
    "\n",
    "\n",
    "KOBIS의 주간/주말 박스오피스 API를 사용했다.\n",
    "\n",
    "URL의 ? 뒤 사용자 설정 요소로\n",
    "1) 환경변수로 지정한 key값\n",
    "2) 기준날짜\n",
    "3) weekGb: 0=주간 (월-일), 1=주말 (금-일), 2= 주중(월-목)\n",
    "세 가지를 넣었다.\n",
    "\n",
    "URL 내 f스트링 변수로 설정된 targetDt는 Dates 리스트 안에 있는 각 요소로, for문을 사용해 10주차의 데이터를 크롤링할 수 있었다."
   ]
  },
  {
   "cell_type": "markdown",
   "metadata": {},
   "source": [
    "# 2. KOBIS_INFO\n",
    "\n",
    "> URL= f'http://www.kobis.or.kr/kobisopenapi/webservice/rest/movie/searchMovieInfo.json?key={KORBIS_KEY}&movieCd={movCd}'\n",
    "\n",
    "KOBIS의 영화 상세정보 API를 사용했다.\n",
    "\n",
    "URL의 ? 뒤 사용자 설정 요소로\n",
    "1) 환경변수로 지정한 key값\n",
    "2) 영화코드를 넣었다.\n",
    "\n",
    "\n",
    "영화코드는 앞서 작성한 csv 파일을 각 라인별로 불러와 저장한 뒤, 영화코드를 따로 추출해 사용하였다.\n",
    "for문을 통해 총 43개의 영화정보를 불러와 별도의 csv 파일에 저장할 수 있었다."
   ]
  },
  {
   "cell_type": "markdown",
   "metadata": {},
   "source": [
    "# 3. Naver_Movie\n",
    "\n",
    "```python\n",
    "headers = {\n",
    "    'X-Naver-Client-Id': client_id,\n",
    "    'X-Naver-Client-Secret': client_secret \n",
    "}\n",
    "data = []\n",
    "\n",
    "for num in range(1, len(fin)):\n",
    "    naver_uri = f'https://openapi.naver.com/v1/search/movie.json?query='\n",
    "    res = requests.get(naver_uri + fin[num], headers = headers).json()\n",
    "    res['movCd'] = result[num][0]\n",
    "    data.append(res)\n",
    "```\n",
    "\n",
    "\n",
    "> URL = https://openapi.naver.com/v1/search/movie.json?query=\n",
    "\n",
    "URL의 ? 뒤 사용자요소로 query를 사용했다. query에 할당된 스트링을 검색어로 삼아 결과를 도출해달라고 요청할 수 있다.\n",
    "앞서 저장한 csv 파일에서 영화의 이름을 추출하여 for문을 사용해 총 43개의 영화정보를 불러와 별도의 파일에 저장했다.\n"
   ]
  }
 ],
 "metadata": {
  "kernelspec": {
   "display_name": "Python 3",
   "language": "python",
   "name": "python3"
  },
  "language_info": {
   "codemirror_mode": {
    "name": "ipython",
    "version": 3
   },
   "file_extension": ".py",
   "mimetype": "text/x-python",
   "name": "python",
   "nbconvert_exporter": "python",
   "pygments_lexer": "ipython3",
   "version": "3.7.2"
  }
 },
 "nbformat": 4,
 "nbformat_minor": 2
}
