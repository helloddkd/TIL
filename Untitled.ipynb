{
 "cells": [
  {
   "cell_type": "code",
   "execution_count": 1,
   "metadata": {},
   "outputs": [
    {
     "data": {
      "text/plain": [
       "'ff1'"
      ]
     },
     "execution_count": 1,
     "metadata": {},
     "output_type": "execute_result"
    }
   ],
   "source": [
    "def isint(n):\n",
    "    try: \n",
    "        int(n)\n",
    "        return True\n",
    "    except:\n",
    "        return False\n",
    "\n",
    "def increment_string(strng):\n",
    "    k = 0\n",
    "    for i, n in enumerate(strng):\n",
    "        if isint(n):\n",
    "            k = i\n",
    "            break\n",
    "    else: \n",
    "        return strng + '1'\n",
    "    st = strng[:k]\n",
    "    num = strng[k:]\n",
    "    nn = str(int(num)+1)\n",
    "    return st + nn.rjust(len(num), '0')\n",
    "    \n",
    "    \n",
    "increment_string(\"ff\")"
   ]
  }
 ],
 "metadata": {
  "kernelspec": {
   "display_name": "Python 3",
   "language": "python",
   "name": "python3"
  },
  "language_info": {
   "codemirror_mode": {
    "name": "ipython",
    "version": 3
   },
   "file_extension": ".py",
   "mimetype": "text/x-python",
   "name": "python",
   "nbconvert_exporter": "python",
   "pygments_lexer": "ipython3",
   "version": "3.6.7"
  }
 },
 "nbformat": 4,
 "nbformat_minor": 2
}
