{
 "cells": [
  {
   "cell_type": "markdown",
   "metadata": {},
   "source": [
    "# Problem set"
   ]
  },
  {
   "cell_type": "markdown",
   "metadata": {},
   "source": [
    "## 190108"
   ]
  },
  {
   "cell_type": "markdown",
   "metadata": {},
   "source": [
    "## 1. 이상한 덧셈\n",
    "> 숫자로 구성된 리스트에서 양의 정수의 합을 구하는 함수, 'positive_sum'을 만들어 보아요.\n",
    "\n",
    "ex) ```python\n",
    "positive_sum([1, -10, 2]) # 3\n",
    "positive_sum([-1, -2, -3, -4]) # 0\n",
    "```"
   ]
  },
  {
   "cell_type": "code",
   "execution_count": null,
   "metadata": {},
   "outputs": [],
   "source": [
    "def positive_sum(li):\n",
    "    s = 0\n",
    "    for num in li:\n",
    "        if num > 0 :\n",
    "            s+=num\n",
    "    return s\n",
    "\n",
    "print(positive_sum([1, -10, 2])) # 3\n",
    "print(positive_sum([-1, -2, -3, -4])) # 0"
   ]
  },
  {
   "cell_type": "code",
   "execution_count": null,
   "metadata": {},
   "outputs": [],
   "source": [
    "#겨스님\n",
    "def positive_num (numbers):\n",
    "    total = 0\n",
    "    for number in numbers:\n",
    "        if number > 0:\n",
    "            total+= number\n",
    "    return total\n",
    "\n",
    "#파이썬 고급문법!\n",
    "def pos_sum(numbers):\n",
    "    return sum(x for x in numbers if x > 0)\n",
    "\n",
    "print(pos_sum([1, -10, 2])) # 3\n",
    "print(pos_sum([-1, -2, -3, -4])) # 0"
   ]
  },
  {
   "cell_type": "markdown",
   "metadata": {},
   "source": [
    "## 2. 문자열 탐색\n",
    "> 문자열 요소로만 이루어진 리스트를 넣었을 때, 문자열의 길이가 2 이상이고 주어진 문자열의 첫 번째와 마지막 문자가 같은 문자열의 수를 세는 함수 `start_end`를 작성하세요.\n",
    "\n",
    "예시)\n",
    "```python\n",
    "start_end(['level', 'asdwe', 's', 'ababsdfa', 'q1q']) # 3\n",
    "```"
   ]
  },
  {
   "cell_type": "code",
   "execution_count": null,
   "metadata": {},
   "outputs": [],
   "source": [
    "def start_end (li):\n",
    "    count = 0\n",
    "    for word in li:\n",
    "        if len(word) != 1 and word[0] == word[-1]:\n",
    "            count += 1\n",
    "    return count\n",
    "\n",
    "\n",
    "start_end(['level', 'asdwe', 's', 'ababsdfa', 'q1q'])  #s를 세지 않아야 함."
   ]
  },
  {
   "cell_type": "markdown",
   "metadata": {},
   "source": [
    "## 3. Collatz\n",
    "> Colatz 추측: 어떤 자연수 n이던지, 다음과 같은 작업을반복하면 1로 만들 수 있다.\n",
    "1. n이 짝수면 2로 나눈다\n",
    "2. n이 홀수라면 3을 곱하고 1을 더한다.\n",
    "3. 결과로 나온 수에 1/2의 작업을 1이 될때까지 만복한다.\n",
    "\n",
    "예시) n=6 인 경우 6 => 3 => 10 => 5 => 16 => 8 => 4 => 2 => 1 이 되며, 8번만에 1이 됩니다. 자연수 n이 들어왔을 때 몇 번의 작업만에 1이되는지를 리턴하는 함수를 완성하세요.\n",
    "\n",
    "> 단! 500번을 넘어가도 1이 되지않는다면,-1을 리턴할게요.\n",
    "\n",
    "예시)\n",
    "```python\n",
    "collatz(6) # 8\n",
    "collatz(8) # 3\n",
    "collatz(6263313) # -1\n",
    "```"
   ]
  },
  {
   "cell_type": "code",
   "execution_count": null,
   "metadata": {},
   "outputs": [],
   "source": [
    "#재귀함수..?\n",
    "def collatz(n, count=0):\n",
    "    if n == 1 and count< 500:\n",
    "        return count\n",
    "    elif count == 500:\n",
    "        return -1\n",
    "    else: \n",
    "        if n % 2 == 0:\n",
    "            n= n //2\n",
    "            count += 1\n",
    "        else: \n",
    "            n= n * 3 + 1\n",
    "            count += 1\n",
    "        return collatz(n, count)\n",
    "\n",
    "print(collatz(12)) #9 \n",
    "print(collatz(8)) # 8 => 4 => 2 => 1\n",
    "print(collatz(626331)) "
   ]
  },
  {
   "cell_type": "code",
   "execution_count": null,
   "metadata": {},
   "outputs": [],
   "source": [
    "def collatz(num):\n",
    "    for i in range(500):\n",
    "        if num % 2 :\n",
    "            num = num * 3 + 1\n",
    "        else:\n",
    "            num = num / 2\n",
    "        if num == 1:\n",
    "            return i+1\n",
    "    return -1\n",
    "\n",
    "#와 짱깔끔해 겨스님답\n",
    "print(collatz(12))  \n",
    "print(collatz(8)) \n",
    "print(collatz(626331)) "
   ]
  },
  {
   "cell_type": "markdown",
   "metadata": {},
   "source": [
    "### 4. 솔로 천국\n",
    "> 리스트가 주어질때, 리스트의 요소 'e'는 'range(0,10)'에 포함되는 자연수이다. 리스트에서 연속적으로 나타나는 숫자는 하나만 남기고 전부 제거하여 'return'하는 함수 'lonely'를 작성해 보시오. 이때 제거된 후 남은 수들을 반환할 때는 리스트의 요소들이 순서를 유지해야 합니다.\n",
    "\n",
    "예시)\n",
    "```python\n",
    "lonely([1,1,3,3,0,1,1,3,0,3)] # [1,3,0]\n",
    "lonely([4,4,3,3,4] # [4,3]\n",
    "```"
   ]
  },
  {
   "cell_type": "code",
   "execution_count": null,
   "metadata": {},
   "outputs": [],
   "source": [
    "def lonely(li, result=[]):\n",
    "    look = li[0]\n",
    "    count = 0\n",
    "    for num in li:\n",
    "        if num == look:\n",
    "            count += 1\n",
    "        else:\n",
    "            del(li[0:count])\n",
    "            break\n",
    "    else:\n",
    "        li = []\n",
    "    if not look in result:\n",
    "        result = result + [look]\n",
    "    \n",
    "    if li == []:\n",
    "        return result\n",
    "    else:\n",
    "        return lonely(li, result)\n",
    "    \n",
    "print(lonely([1,1,3,3,0,1,1,3,0,3])) \n",
    "print(lonely([4,4,3,3,4]))"
   ]
  },
  {
   "cell_type": "code",
   "execution_count": null,
   "metadata": {},
   "outputs": [],
   "source": [
    "def lonely(numbers):\n",
    "    return list(set(numbers))\n",
    "print(lonely([1,1,3,3,0,1,1,3,0,3])) \n",
    "print(lonely([4,4,3,3,4]))"
   ]
  },
  {
   "cell_type": "code",
   "execution_count": null,
   "metadata": {},
   "outputs": [],
   "source": [
    "def lonely(numbers):\n",
    "    result = []\n",
    "    for number in numbers:\n",
    "        if number not in result :\n",
    "            result.append(number)\n",
    "    return result\n",
    "    \n",
    "print(lonely([1,1,3,3,0,1,1,3,0,3])) \n",
    "print(lonely([4,4,3,3,4]))      "
   ]
  },
  {
   "cell_type": "markdown",
   "metadata": {},
   "source": [
    "### 5. RGB 삼각형\n",
    "\n",
    "bg -> r\n",
    "rg -> b\n",
    "br -> g\n",
    "rr -> r\n",
    "gg -> g\n",
    "bb -> b\n",
    "\n",
    "R R G B R G BB\n",
    "\n",
    "RGB 가 섞인 문자열이 들어오면 병합되는 대로 합쳐 마지막색깔만 리턴해라\n"
   ]
  },
  {
   "cell_type": "code",
   "execution_count": null,
   "metadata": {},
   "outputs": [],
   "source": [
    "col = {'R', 'G', 'B'}\n",
    "def merge_color(put):\n",
    "    if len(put) == 1:\n",
    "        return put\n",
    "    else: \n",
    "        if put[0] == put[1]:\n",
    "            a = put[0]\n",
    "            put = put[2:]\n",
    "            put = a + put\n",
    "        else:\n",
    "            a= str(col - {put[0],put[1]})  \n",
    "            put = put[2:]\n",
    "            put = a[2] + put\n",
    "        return merge_color(put)\n",
    "\n",
    "print(merge_color('RGBBBRGG')) "
   ]
  },
  {
   "cell_type": "markdown",
   "metadata": {},
   "source": [
    "# 6. 홀수개를 찾아라\n",
    "> 입력으로 list 한 개 리스트에는 1개의 숫자만 홀수 개 들어있다.\n",
    "1개의 홀수개 숫자를 리턴하는 find_odd 함수를 작성하세요.\n",
    "\n",
    "```python\n",
    "1122333 -> 3\n",
    "212 -> 1\n",
    "1223221 ->3\n",
    "121 -> 2\n",
    "```\n"
   ]
  },
  {
   "cell_type": "code",
   "execution_count": null,
   "metadata": {},
   "outputs": [],
   "source": [
    "def find_odd_1(numbers):\n",
    "    for uniq in list(set(numbers)):\n",
    "        if numbers.count(uniq) % 2:\n",
    "            return uniq\n",
    "find_odd([1,2,2,1,3])"
   ]
  },
  {
   "cell_type": "code",
   "execution_count": null,
   "metadata": {},
   "outputs": [],
   "source": [
    "def find_odd_2 (numbers):\n",
    "    numbers.sort()\n",
    "    #두 개씩 비교해서 다르면 출력\n"
   ]
  },
  {
   "cell_type": "markdown",
   "metadata": {},
   "source": [
    "# 190109"
   ]
  },
  {
   "cell_type": "markdown",
   "metadata": {},
   "source": [
    "# 1. 업다운? 이분법? 몰라유\n",
    "\n",
    "> 우리가 1부터 100사이에 range(1:101) 숫자를 생각한다. 컴퓨터가 절반에 위치한 숫자를 물어보고, 생각한 수보다 크면 1, 작으면 -1, 맞으면 0을 입력한다. 몇 번만에 컴퓨터가 우리가 생각한 수를 맞췄느지를 출력하고 프로그램을 끝낸다.\n",
    "\n",
    "```shell\n",
    "숫자를 생각하세요..\n",
    "50\n",
    "> -1\n",
    "25\n",
    "> -1\n",
    "13\n",
    "> -1\n",
    "7\n",
    "> 1\n",
    "10\n",
    ">1\n",
    "12\n",
    ">0\n",
    "6번만에 맞췄습니다.\n",
    "```\n",
    "\n",
    "```python\n",
    "def guess_up_down ():\n",
    "    print"
   ]
  },
  {
   "cell_type": "code",
   "execution_count": 12,
   "metadata": {},
   "outputs": [
    {
     "name": "stdout",
     "output_type": "stream",
     "text": [
      "1에서 1000 사이의 숫자를 한 개 생각하세요..\n",
      "500\n",
      "작으면 -1, 맞으면 0, 크면 1: 1\n",
      "750\n",
      "작으면 -1, 맞으면 0, 크면 1: 1\n",
      "875\n",
      "작으면 -1, 맞으면 0, 크면 1: 1\n",
      "938\n",
      "작으면 -1, 맞으면 0, 크면 1: 1\n",
      "969\n",
      "작으면 -1, 맞으면 0, 크면 1: 1\n",
      "985\n",
      "작으면 -1, 맞으면 0, 크면 1: 1\n",
      "993\n",
      "작으면 -1, 맞으면 0, 크면 1: 1\n",
      "997\n",
      "작으면 -1, 맞으면 0, 크면 1: 1\n",
      "999\n",
      "작으면 -1, 맞으면 0, 크면 1: 1\n",
      "1000\n",
      "작으면 -1, 맞으면 0, 크면 1: 1\n",
      "1000\n",
      "작으면 -1, 맞으면 0, 크면 1: 0\n",
      "11번 만에 맞췄습니다\n"
     ]
    }
   ],
   "source": [
    "print('1에서 1000 사이의 숫자를 한 개 생각하세요..')\n",
    "def guess_up_down (n=500, up =0, down=1000, count=0):\n",
    "    print(n)\n",
    "    count += 1\n",
    "    user_feedback = input('작으면 -1, 맞으면 0, 크면 1: ')\n",
    "    if user_feedback == \"0\":\n",
    "        return print(f'{count}번 만에 맞췄습니다')       \n",
    "    elif user_feedback == \"1\":\n",
    "        newn = (down + n) // 2 if (down + n) %2 == 0 else ((down + n) // 2)+1 #50, 75 -> 70\n",
    "        up=n\n",
    "        return guess_up_down(newn, up, down, count)\n",
    "    elif user_feedback == \"-1\":\n",
    "        newn = (n + up) // 2 if (n + up) % 2 ==0 else ((n + up) // 2)+1   \n",
    "        down=n\n",
    "        return guess_up_down(newn, up, down, count)\n",
    "            \n",
    "guess_up_down ()"
   ]
  },
  {
   "cell_type": "markdown",
   "metadata": {},
   "source": [
    "print('숫자를 생각하세요')\n",
    "def guess_up_down():\n",
    "    count = 0\n",
    "    max_n, min_n = (100, 0)\n",
    "    while 1: #무한히 돌리겠다\n",
    "        guess = (max_n + min_n) // 2\n",
    "        print(guess)\n",
    "        count += 1\n",
    "        feedback = int(input('작으면 -1, 맞으면 0, 크면 1을 입력하세요 : '))\n",
    "        if feedback == -1:\n",
    "            max_n = guess\n",
    "        elif feedback == 1:\n",
    "            min_n = guess\n",
    "        else:\n",
    "            return count\n",
    "\n",
    "guess_up_down()\n",
    "        "
   ]
  },
  {
   "cell_type": "code",
   "execution_count": 4,
   "metadata": {},
   "outputs": [
    {
     "name": "stdout",
     "output_type": "stream",
     "text": [
      "숫자를 생각하세요\n",
      "500\n",
      "작으면 -1, 맞으면 0, 크면 1을 입력하세요 : -1\n",
      "250\n",
      "작으면 -1, 맞으면 0, 크면 1을 입력하세요 : 1\n",
      "375\n",
      "작으면 -1, 맞으면 0, 크면 1을 입력하세요 : -1\n",
      "312\n",
      "작으면 -1, 맞으면 0, 크면 1을 입력하세요 : -1\n",
      "281\n",
      "작으면 -1, 맞으면 0, 크면 1을 입력하세요 : 1\n",
      "296\n",
      "작으면 -1, 맞으면 0, 크면 1을 입력하세요 : 1\n",
      "304\n",
      "작으면 -1, 맞으면 0, 크면 1을 입력하세요 : -1\n",
      "300\n",
      "작으면 -1, 맞으면 0, 크면 1을 입력하세요 : 0\n"
     ]
    },
    {
     "data": {
      "text/plain": [
       "8"
      ]
     },
     "execution_count": 4,
     "metadata": {},
     "output_type": "execute_result"
    }
   ],
   "source": [
    "#교수님 답\n",
    "print('숫자를 생각하세요')\n",
    "def guess_up_down(max_n):\n",
    "    count = 0\n",
    "    min_n = 0\n",
    "    while 1: #무한히 돌리겠다\n",
    "        guess = (max_n + min_n) // 2\n",
    "        print(guess)\n",
    "        count += 1\n",
    "        feedback = int(input('작으면 -1, 맞으면 0, 크면 1을 입력하세요 : '))\n",
    "        if feedback == -1:\n",
    "            max_n = guess\n",
    "        elif feedback == 1:\n",
    "            min_n = guess\n",
    "        else:\n",
    "            return count\n",
    "\n",
    "guess_up_down(1000)"
   ]
  },
  {
   "cell_type": "code",
   "execution_count": 40,
   "metadata": {},
   "outputs": [
    {
     "data": {
      "text/plain": [
       "(2.2360679774719756, 2.2360679775010794, 38)"
      ]
     },
     "execution_count": 40,
     "metadata": {},
     "output_type": "execute_result"
    }
   ],
   "source": [
    "def bisection (n, min_n=1, max_n=2, count = 0):\n",
    "    count += 1\n",
    "    if count == 1:\n",
    "        max_n = n\n",
    "    k = (min_n+max_n)/2\n",
    "    if round(min_n, 10) == round(max_n, 10):\n",
    "        return min_n, max_n, count\n",
    "    elif n < k*k < max_n*max_n:\n",
    "        max_n = k\n",
    "        return bisection(n, min_n, max_n, count)\n",
    "    elif min_n**2 < k**2 < n:\n",
    "        min_n = k\n",
    "        return bisection(n, min_n, max_n, count)\n",
    "\n",
    "bisection(5)"
   ]
  }
 ],
 "metadata": {
  "kernelspec": {
   "display_name": "Python 3",
   "language": "python",
   "name": "python3"
  },
  "language_info": {
   "codemirror_mode": {
    "name": "ipython",
    "version": 3
   },
   "file_extension": ".py",
   "mimetype": "text/x-python",
   "name": "python",
   "nbconvert_exporter": "python",
   "pygments_lexer": "ipython3",
   "version": "3.6.7"
  }
 },
 "nbformat": 4,
 "nbformat_minor": 2
}
