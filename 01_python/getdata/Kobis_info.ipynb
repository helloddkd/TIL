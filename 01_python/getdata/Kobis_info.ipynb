{
 "cells": [
  {
   "cell_type": "code",
   "execution_count": 54,
   "metadata": {},
   "outputs": [],
   "source": [
    "f = open('boxoffice.csv', 'rt', encoding='utf8')\n",
    "result = []\n",
    "lines = f.readlines()\n",
    "for line in lines:\n",
    "    result.append(line.split(', '))\n",
    "f.close()\n",
    "\n",
    "fin = []\n",
    "for num in range(1,len(result)):\n",
    "    fin.append(result[num][0])\n"
   ]
  },
  {
   "cell_type": "code",
   "execution_count": 55,
   "metadata": {},
   "outputs": [],
   "source": [
    "import requests\n",
    "import os\n",
    "import csv\n",
    "\n",
    "KORBIS_KEY = os.getenv('KORBIS_KEY')\n",
    "movie = []\n",
    "for i in range(0,43):\n",
    "    movCd = fin[i]\n",
    "    info = []\n",
    "    URL= f'http://www.kobis.or.kr/kobisopenapi/webservice/rest/movie/searchMovieInfo.json?key={KORBIS_KEY}&movieCd={movCd}'\n",
    "    data = requests.get(URL).json()\n",
    "    data = data[\"movieInfoResult\"]['movieInfo']\n",
    "    info.append(data['movieCd'])\n",
    "    info.append(data['movieNm'])\n",
    "    info.append(data['movieNmEn'])\n",
    "    info.append(data['movieNmOg'])\n",
    "    info.append(data['openDt'])\n",
    "    info.append(data['showTm'])\n",
    "    for num in range(0, len(data['genres'])):\n",
    "        info.append(data['genres'][num]['genreNm'])\n",
    "    for num in range(0, len(data['directors'])):\n",
    "        info.append(data['directors'][num]['peopleNm'])\n",
    "    info.append(data['audits'][0]['watchGradeNm'])\n",
    "    for num in range(0, len(data['actors'])):\n",
    "        if num <= 2:\n",
    "            info.append(data['actors'][num]['peopleNm'])\n",
    "    info.append('\\n')\n",
    "    movie.append(info)\n",
    "\n",
    "f = open('movie.csv', 'w+', encoding='utf-8')\n",
    "\n",
    "f.write('movie_code, movie_name_ko, movie_name_en, movie_name_og, prdt_year, genres, directors, watch_grade_nm, actor1, actor2, actor3, \\n')\n",
    "\n",
    "for info in movie:\n",
    "    line = \", \".join(info)\n",
    "    f.write(line)\n",
    "\n",
    "f.close()"
   ]
  }
 ],
 "metadata": {
  "kernelspec": {
   "display_name": "Python 3",
   "language": "python",
   "name": "python3"
  },
  "language_info": {
   "codemirror_mode": {
    "name": "ipython",
    "version": 3
   },
   "file_extension": ".py",
   "mimetype": "text/x-python",
   "name": "python",
   "nbconvert_exporter": "python",
   "pygments_lexer": "ipython3",
   "version": "3.7.2"
  }
 },
 "nbformat": 4,
 "nbformat_minor": 2
}
