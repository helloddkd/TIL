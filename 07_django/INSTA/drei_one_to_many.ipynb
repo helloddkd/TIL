{
 "cells": [
  {
   "cell_type": "markdown",
   "metadata": {},
   "source": [
    "# One To Many - 3\n",
    "\n",
    "\n",
    "## Student\n",
    "\n",
    "| id(PK) | name          |\n",
    "| ------ | ------------- |\n",
    "| INT    | CharField(20) |\n",
    "\n",
    "\n",
    "\n",
    "## Message\n",
    "\n",
    "| id(PK) | content   | student(FK)-Student |\n",
    "| ------ | --------- | ------------------- |\n",
    "| INT    | CharField | INT                 |\n",
    "\n",
    "\n",
    "\n",
    "## Reply\n",
    "\n",
    "| id(PK) | content       | student(FK)-Student | mesage(FK)-Message |\n",
    "| ------ | ------------- | ------------------- | ------------------ |\n",
    "| INT    | CharField(30) | INT                 | INT                |\n",
    "\n"
   ]
  },
  {
   "cell_type": "code",
   "execution_count": 1,
   "metadata": {},
   "outputs": [
    {
     "data": {
      "text/plain": [
       "<Student: Student object (6)>"
      ]
     },
     "execution_count": 1,
     "metadata": {},
     "output_type": "execute_result"
    }
   ],
   "source": [
    "Student.objects.create(name='조성규')\n",
    "Student.objects.create(name='이상택')\n",
    "Student.objects.create(name='여현구')\n",
    "Student.objects.create(name='송건호')\n",
    "Student.objects.create(name='이종화')\n",
    "Student.objects.create(name='강진우')"
   ]
  },
  {
   "cell_type": "code",
   "execution_count": 2,
   "metadata": {},
   "outputs": [],
   "source": [
    "rollingpaper = Message()\n",
    "rollingpaper.student = Student.objects.first() #대상이 되는 학생\n",
    "rollingpaper.content = '조성규님에게 메세지를 남겨주세요'\n",
    "rollingpaper.save()"
   ]
  },
  {
   "cell_type": "code",
   "execution_count": 3,
   "metadata": {},
   "outputs": [
    {
     "data": {
      "text/plain": [
       "'조성규님에게 메세지를 남겨주세요'"
      ]
     },
     "execution_count": 3,
     "metadata": {},
     "output_type": "execute_result"
    }
   ],
   "source": [
    "rollingpaper.content"
   ]
  },
  {
   "cell_type": "code",
   "execution_count": 5,
   "metadata": {},
   "outputs": [
    {
     "data": {
      "text/plain": [
       "'조성규'"
      ]
     },
     "execution_count": 5,
     "metadata": {},
     "output_type": "execute_result"
    }
   ],
   "source": [
    "rollingpaper.student.name"
   ]
  },
  {
   "cell_type": "code",
   "execution_count": 6,
   "metadata": {},
   "outputs": [],
   "source": [
    "reply = Reply()\n",
    "reply.message = rollingpaper\n",
    "reply.student = Student.objects.get(id=2) #답장써주는사람\n",
    "reply.content = '0101010101010010110101010010101'\n",
    "reply.save()"
   ]
  },
  {
   "cell_type": "code",
   "execution_count": 9,
   "metadata": {},
   "outputs": [
    {
     "data": {
      "text/plain": [
       "'0101010101010010110101010010101'"
      ]
     },
     "execution_count": 9,
     "metadata": {},
     "output_type": "execute_result"
    }
   ],
   "source": [
    "reply.content"
   ]
  },
  {
   "cell_type": "code",
   "execution_count": 10,
   "metadata": {},
   "outputs": [],
   "source": [
    "reply = Reply()\n",
    "reply.message = rollingpaper\n",
    "reply.student = Student.objects.get(name='여현구') #답장써주는사람\n",
    "reply.content = 'We are Avengers'\n",
    "reply.save()"
   ]
  },
  {
   "cell_type": "code",
   "execution_count": 11,
   "metadata": {},
   "outputs": [
    {
     "data": {
      "text/plain": [
       "<QuerySet [<Reply: Reply object (1)>, <Reply: Reply object (2)>]>"
      ]
     },
     "execution_count": 11,
     "metadata": {},
     "output_type": "execute_result"
    }
   ],
   "source": [
    "reply.message.reply_set.all()"
   ]
  },
  {
   "cell_type": "code",
   "execution_count": null,
   "metadata": {},
   "outputs": [],
   "source": []
  },
  {
   "cell_type": "code",
   "execution_count": null,
   "metadata": {},
   "outputs": [],
   "source": []
  },
  {
   "cell_type": "code",
   "execution_count": null,
   "metadata": {},
   "outputs": [],
   "source": []
  },
  {
   "cell_type": "code",
   "execution_count": null,
   "metadata": {},
   "outputs": [],
   "source": []
  },
  {
   "cell_type": "code",
   "execution_count": null,
   "metadata": {},
   "outputs": [],
   "source": []
  },
  {
   "cell_type": "code",
   "execution_count": null,
   "metadata": {},
   "outputs": [],
   "source": []
  }
 ],
 "metadata": {
  "kernelspec": {
   "display_name": "Django Shell-Plus",
   "language": "python",
   "name": "django_extensions"
  },
  "language_info": {
   "codemirror_mode": {
    "name": "ipython",
    "version": 3
   },
   "file_extension": ".py",
   "mimetype": "text/x-python",
   "name": "python",
   "nbconvert_exporter": "python",
   "pygments_lexer": "ipython3",
   "version": "3.7.3"
  }
 },
 "nbformat": 4,
 "nbformat_minor": 2
}
