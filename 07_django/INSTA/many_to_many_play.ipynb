{
 "cells": [
  {
   "cell_type": "markdown",
   "metadata": {},
   "source": [
    "# Many to Many Relation\n",
    "\n",
    "\n",
    "\n",
    "## Student\n",
    "\n",
    "| id(PK) | name      |\n",
    "| ------ | --------- |\n",
    "| INT    | CharField |\n",
    "\n",
    "\n",
    "\n",
    "## Enrollment\n",
    "\n",
    "| id(PK) | lecture(FK) | student(FK) |\n",
    "| ------ | ----------- | ----------- |\n",
    "| INT    | INT         | INT         |\n",
    "\n",
    "\n",
    "\n",
    "\n",
    "\n",
    "## Lecture\n",
    "\n",
    "| id(PK) | title     |\n",
    "| ------ | --------- |\n",
    "| INT    | CharField |\n"
   ]
  },
  {
   "cell_type": "code",
   "execution_count": null,
   "metadata": {},
   "outputs": [],
   "source": [
    "Student.objects.all().delete()"
   ]
  },
  {
   "cell_type": "code",
   "execution_count": null,
   "metadata": {},
   "outputs": [],
   "source": [
    "Lecture.objects.all()"
   ]
  },
  {
   "cell_type": "code",
   "execution_count": null,
   "metadata": {},
   "outputs": [],
   "source": [
    "Enrollment.objects.all().count()"
   ]
  },
  {
   "cell_type": "code",
   "execution_count": null,
   "metadata": {},
   "outputs": [],
   "source": [
    "s1=Student.objects.create(name='백지원')\n",
    "s2=Student.objects.create(name='유태영')\n",
    "s3=Student.objects.create(name='조성규')\n",
    "s4=Student.objects.create(name='심이주')"
   ]
  },
  {
   "cell_type": "code",
   "execution_count": null,
   "metadata": {},
   "outputs": [],
   "source": [
    "l1=Lecture.objects.create(title='통계학개론')\n",
    "l2=Lecture.objects.create(title='알고리즘의 이해')"
   ]
  },
  {
   "cell_type": "code",
   "execution_count": null,
   "metadata": {},
   "outputs": [],
   "source": [
    "Enrollment.objects.create(student=s1, lecture=l1)\n",
    "Enrollment.objects.create(student=s1, lecture=l2)\n",
    "Enrollment.objects.create(student=s2, lecture=l1)\n",
    "Enrollment.objects.create(student=s3, lecture=l1)\n",
    "Enrollment.objects.create(student=s4, lecture=l1)\n",
    "Enrollment.objects.create(student=s2, lecture=l2)"
   ]
  },
  {
   "cell_type": "code",
   "execution_count": null,
   "metadata": {
    "scrolled": true
   },
   "outputs": [],
   "source": [
    "s1enroll=s1.enrollment_set.all()\n",
    "for enroll in s1enroll:\n",
    "    print(enroll.lecture.title)"
   ]
  },
  {
   "cell_type": "code",
   "execution_count": null,
   "metadata": {
    "scrolled": true
   },
   "outputs": [],
   "source": [
    "s1enroll=s1.enrollment_set.all()\n",
    "for enroll in s1enroll:\n",
    "    if len(enroll.lecture.title) > 5:\n",
    "        print(enroll.lecture.title)"
   ]
  },
  {
   "cell_type": "code",
   "execution_count": null,
   "metadata": {},
   "outputs": [],
   "source": [
    "s3enroll=s3.enrollment_set.all()\n",
    "for enroll in s3enroll:\n",
    "    print(enroll.lecture.title)"
   ]
  },
  {
   "cell_type": "code",
   "execution_count": null,
   "metadata": {
    "scrolled": true
   },
   "outputs": [],
   "source": [
    "l1student = l1.enrollment_set.all()\n",
    "for enroll in l1student:\n",
    "    print(enroll.student.name)"
   ]
  },
  {
   "cell_type": "code",
   "execution_count": 1,
   "metadata": {},
   "outputs": [
    {
     "data": {
      "text/plain": [
       "<QuerySet [<Hotel: Hotel object (1)>, <Hotel: Hotel object (2)>, <Hotel: Hotel object (3)>, <Hotel: Hotel object (4)>, <Hotel: Hotel object (5)>, <Hotel: Hotel object (6)>, <Hotel: Hotel object (7)>, <Hotel: Hotel object (8)>, <Hotel: Hotel object (9)>, <Hotel: Hotel object (10)>]>"
      ]
     },
     "execution_count": 1,
     "metadata": {},
     "output_type": "execute_result"
    }
   ],
   "source": [
    "Hotel.objects.all()"
   ]
  },
  {
   "cell_type": "code",
   "execution_count": 2,
   "metadata": {},
   "outputs": [
    {
     "data": {
      "text/plain": [
       "<QuerySet [<Client: Client object (1)>, <Client: Client object (2)>, <Client: Client object (3)>, <Client: Client object (4)>, <Client: Client object (5)>, <Client: Client object (6)>, <Client: Client object (7)>, <Client: Client object (8)>, <Client: Client object (9)>, <Client: Client object (10)>]>"
      ]
     },
     "execution_count": 2,
     "metadata": {},
     "output_type": "execute_result"
    }
   ],
   "source": [
    "Client.objects.all()"
   ]
  },
  {
   "cell_type": "code",
   "execution_count": 4,
   "metadata": {},
   "outputs": [
    {
     "data": {
      "text/plain": [
       "<QuerySet [{'id': 1, 'name': 'Jeffrey Wright'}, {'id': 2, 'name': 'Douglas May'}, {'id': 3, 'name': 'Clarence Soto'}, {'id': 4, 'name': 'Michael Krause'}, {'id': 5, 'name': 'Dennis Pruitt'}, {'id': 6, 'name': 'Jeffrey Salas'}, {'id': 7, 'name': 'Robert Guerrero'}, {'id': 8, 'name': 'Timothy Shepard'}, {'id': 9, 'name': 'Kristen Wilson'}, {'id': 10, 'name': 'Connor Zimmerman'}]>"
      ]
     },
     "execution_count": 4,
     "metadata": {},
     "output_type": "execute_result"
    }
   ],
   "source": [
    "Client.objects.all().values('id','name')"
   ]
  },
  {
   "cell_type": "code",
   "execution_count": 7,
   "metadata": {},
   "outputs": [],
   "source": [
    "Hotel.dummy_data(1)"
   ]
  },
  {
   "cell_type": "code",
   "execution_count": 8,
   "metadata": {},
   "outputs": [],
   "source": [
    "Client.dummy_data(1)"
   ]
  },
  {
   "cell_type": "code",
   "execution_count": 9,
   "metadata": {},
   "outputs": [
    {
     "data": {
      "text/plain": [
       "0"
      ]
     },
     "execution_count": 9,
     "metadata": {},
     "output_type": "execute_result"
    }
   ],
   "source": [
    "Client.objects.last().hotel_set.count()"
   ]
  },
  {
   "cell_type": "code",
   "execution_count": 14,
   "metadata": {},
   "outputs": [
    {
     "data": {
      "text/plain": [
       "<QuerySet []>"
      ]
     },
     "execution_count": 14,
     "metadata": {},
     "output_type": "execute_result"
    }
   ],
   "source": [
    "Hotel.objects.last().clients.all()"
   ]
  },
  {
   "cell_type": "code",
   "execution_count": 16,
   "metadata": {},
   "outputs": [
    {
     "data": {
      "text/plain": [
       "<QuerySet [<Client: Client object (1)>, <Client: Client object (3)>, <Client: Client object (5)>, <Client: Client object (7)>, <Client: Client object (11)>]>"
      ]
     },
     "execution_count": 16,
     "metadata": {},
     "output_type": "execute_result"
    }
   ],
   "source": [
    "new_hotel = Hotel.objects.last()\n",
    "new_hotel.clients.add(Client.objects.last())\n",
    "new_hotel.clients.add(Client.objects.get(id=1), Client.objects.get(id=3), Client.objects.get(id=5), Client.objects.get(id=7))\n",
    "new_hotel.clients.all()"
   ]
  },
  {
   "cell_type": "code",
   "execution_count": 18,
   "metadata": {},
   "outputs": [
    {
     "data": {
      "text/plain": [
       "<QuerySet [<Client: Client object (1)>]>"
      ]
     },
     "execution_count": 18,
     "metadata": {},
     "output_type": "execute_result"
    }
   ],
   "source": [
    "new_hotel.clients.filter(name__contains='h')"
   ]
  },
  {
   "cell_type": "code",
   "execution_count": 20,
   "metadata": {},
   "outputs": [],
   "source": [
    "client = Client.objects.get(id=1)\n",
    "client.hotel_set.add(Hotel.objects.get(id=2), Hotel.objects.get(id=4), Hotel.objects.get(id=6))"
   ]
  },
  {
   "cell_type": "code",
   "execution_count": 22,
   "metadata": {},
   "outputs": [
    {
     "data": {
      "text/plain": [
       "<QuerySet [{'id': 10, 'name': 'Kenneth Roberts'}, {'id': 1, 'name': 'Natasha Lewis'}, {'id': 2, 'name': 'Kevin Stone'}, {'id': 11, 'name': 'Moreno, Hill and Espinoza'}, {'id': 4, 'name': 'Gene Brown'}, {'id': 6, 'name': 'John Allen'}]>"
      ]
     },
     "execution_count": 22,
     "metadata": {},
     "output_type": "execute_result"
    }
   ],
   "source": [
    "client.hotel_set.all().values('id','name')"
   ]
  }
 ],
 "metadata": {
  "kernelspec": {
   "display_name": "Django Shell-Plus",
   "language": "python",
   "name": "django_extensions"
  },
  "language_info": {
   "codemirror_mode": {
    "name": "ipython",
    "version": 3
   },
   "file_extension": ".py",
   "mimetype": "text/x-python",
   "name": "python",
   "nbconvert_exporter": "python",
   "pygments_lexer": "ipython3",
   "version": "3.7.3"
  }
 },
 "nbformat": 4,
 "nbformat_minor": 2
}
