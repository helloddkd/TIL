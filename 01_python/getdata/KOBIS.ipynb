{
 "cells": [
  {
   "cell_type": "code",
   "execution_count": 44,
   "metadata": {},
   "outputs": [],
   "source": [
    "\n",
    "targetDt = '20190113'\n",
    "# targetDt = ['20190113', '20190106', '20181230', '20181223', '20181216', '20181209', '20181202', '20181125', '20181118', '20181112']\n",
    "URL = f'http://www.kobis.or.kr/kobisopenapi/webservice/rest/boxoffice/searchWeeklyBoxOfficeList.json?key={key}&targetDt={targetDt}&weekGb=0'\n",
    "\n",
    "\n",
    "\n",
    "\n"
   ]
  },
  {
   "cell_type": "code",
   "execution_count": 16,
   "metadata": {},
   "outputs": [],
   "source": [
    "import requests\n",
    "\n",
    "data = requests.get(URL).json()\n",
    "data = data['boxOfficeResult']['weeklyBoxOfficeList']\n",
    "\n",
    "\n",
    "# 수집된 데이터에서 화 대표코드, 화명, 해당일 누적관객수, 해당일을 기록합니다. \n",
    "# 해당일 누적관객수는 중복시 최신 정보를 반하여야 합니다. \n",
    "# 예) 화 아쿠아맨이 20190113 기준 50,000명이고, 20190106 기준 5,000명이면 50,000명이 저장되어야 합니다. \n",
    "# 해당 결과를 boxoﬃce.csv 에 저장합니다. "
   ]
  },
  {
   "cell_type": "code",
   "execution_count": 31,
   "metadata": {},
   "outputs": [
    {
     "data": {
      "text/plain": [
       "[{'rnum': '1',\n",
       "  'rank': '1',\n",
       "  'rankInten': '8',\n",
       "  'rankOldAndNew': 'OLD',\n",
       "  'movieCd': '20184105',\n",
       "  'movieNm': '말모이',\n",
       "  'openDt': '2019-01-09',\n",
       "  'salesAmt': '8896251031',\n",
       "  'salesShare': '28.9',\n",
       "  'salesInten': '8025880431',\n",
       "  'salesChange': '922.1',\n",
       "  'salesAcc': '10070068631',\n",
       "  'audiCnt': '1033187',\n",
       "  'audiInten': '934370',\n",
       "  'audiChange': '945.6',\n",
       "  'audiAcc': '1185368',\n",
       "  'scrnCnt': '1203',\n",
       "  'showCnt': '24739'},\n",
       " {'rnum': '2',\n",
       "  'rank': '2',\n",
       "  'rankInten': '19',\n",
       "  'rankOldAndNew': 'OLD',\n",
       "  'movieCd': '20176251',\n",
       "  'movieNm': '내안의 그놈',\n",
       "  'openDt': '2019-01-09',\n",
       "  'salesAmt': '6476584476',\n",
       "  'salesShare': '21.0',\n",
       "  'salesInten': '6432995476',\n",
       "  'salesChange': '14758.3',\n",
       "  'salesAcc': '6638709476',\n",
       "  'audiCnt': '744989',\n",
       "  'audiInten': '739766',\n",
       "  'audiChange': '14163.6',\n",
       "  'audiAcc': '765383',\n",
       "  'scrnCnt': '1041',\n",
       "  'showCnt': '15889'},\n",
       " {'rnum': '3',\n",
       "  'rank': '3',\n",
       "  'rankInten': '-1',\n",
       "  'rankOldAndNew': 'OLD',\n",
       "  'movieCd': '20189463',\n",
       "  'movieNm': '주먹왕 랄프 2: 인터넷 속으로',\n",
       "  'openDt': '2019-01-03',\n",
       "  'salesAmt': '4580087005',\n",
       "  'salesShare': '14.9',\n",
       "  'salesInten': '-1528671143',\n",
       "  'salesChange': '-25.0',\n",
       "  'salesAcc': '10731240153',\n",
       "  'audiCnt': '583962',\n",
       "  'audiInten': '-169875',\n",
       "  'audiChange': '-22.5',\n",
       "  'audiAcc': '1342315',\n",
       "  'scrnCnt': '1185',\n",
       "  'showCnt': '22134'},\n",
       " {'rnum': '4',\n",
       "  'rank': '4',\n",
       "  'rankInten': '-3',\n",
       "  'rankOldAndNew': 'OLD',\n",
       "  'movieCd': '20180290',\n",
       "  'movieNm': '아쿠아맨',\n",
       "  'openDt': '2018-12-19',\n",
       "  'salesAmt': '3280232985',\n",
       "  'salesShare': '10.6',\n",
       "  'salesInten': '-8438801763',\n",
       "  'salesChange': '-72.0',\n",
       "  'salesAcc': '43125562814',\n",
       "  'audiCnt': '376349',\n",
       "  'audiInten': '-963871',\n",
       "  'audiChange': '-71.9',\n",
       "  'audiAcc': '4920735',\n",
       "  'scrnCnt': '1086',\n",
       "  'showCnt': '17974'},\n",
       " {'rnum': '5',\n",
       "  'rank': '5',\n",
       "  'rankInten': '49',\n",
       "  'rankOldAndNew': 'OLD',\n",
       "  'movieCd': '20183915',\n",
       "  'movieNm': '극장판 공룡메카드: 타이니소어의 섬',\n",
       "  'openDt': '2019-01-10',\n",
       "  'salesAmt': '2230689440',\n",
       "  'salesShare': '7.2',\n",
       "  'salesInten': '2226081440',\n",
       "  'salesChange': '48309.1',\n",
       "  'salesAcc': '2236575440',\n",
       "  'audiCnt': '289219',\n",
       "  'audiInten': '288707',\n",
       "  'audiChange': '56388.1',\n",
       "  'audiAcc': '289873',\n",
       "  'scrnCnt': '763',\n",
       "  'showCnt': '7597'},\n",
       " {'rnum': '6',\n",
       "  'rank': '6',\n",
       "  'rankInten': '-2',\n",
       "  'rankOldAndNew': 'OLD',\n",
       "  'movieCd': '20185485',\n",
       "  'movieNm': '보헤미안 랩소디',\n",
       "  'openDt': '2018-10-31',\n",
       "  'salesAmt': '1520514090',\n",
       "  'salesShare': '4.9',\n",
       "  'salesInten': '-2777805660',\n",
       "  'salesChange': '-64.6',\n",
       "  'salesAcc': '84970758385',\n",
       "  'audiCnt': '175249',\n",
       "  'audiInten': '-317008',\n",
       "  'audiChange': '-64.4',\n",
       "  'audiAcc': '9785643',\n",
       "  'scrnCnt': '653',\n",
       "  'showCnt': '8554'},\n",
       " {'rnum': '7',\n",
       "  'rank': '7',\n",
       "  'rankInten': '20',\n",
       "  'rankOldAndNew': 'OLD',\n",
       "  'movieCd': '20184574',\n",
       "  'movieNm': '그린 북',\n",
       "  'openDt': '2019-01-09',\n",
       "  'salesAmt': '821545524',\n",
       "  'salesShare': '2.7',\n",
       "  'salesInten': '793530924',\n",
       "  'salesChange': '2832.6',\n",
       "  'salesAcc': '889374224',\n",
       "  'audiCnt': '92682',\n",
       "  'audiInten': '89768',\n",
       "  'audiChange': '3080.6',\n",
       "  'audiAcc': '99569',\n",
       "  'scrnCnt': '398',\n",
       "  'showCnt': '4521'},\n",
       " {'rnum': '8',\n",
       "  'rank': '8',\n",
       "  'rankInten': '-3',\n",
       "  'rankOldAndNew': 'OLD',\n",
       "  'movieCd': '20186281',\n",
       "  'movieNm': '범블비',\n",
       "  'openDt': '2018-12-25',\n",
       "  'salesAmt': '518826110',\n",
       "  'salesShare': '1.7',\n",
       "  'salesInten': '-3112095215',\n",
       "  'salesChange': '-85.7',\n",
       "  'salesAcc': '13026874637',\n",
       "  'audiCnt': '63391',\n",
       "  'audiInten': '-370566',\n",
       "  'audiChange': '-85.4',\n",
       "  'audiAcc': '1553491',\n",
       "  'scrnCnt': '632',\n",
       "  'showCnt': '5383'},\n",
       " {'rnum': '9',\n",
       "  'rank': '9',\n",
       "  'rankInten': '-6',\n",
       "  'rankOldAndNew': 'OLD',\n",
       "  'movieCd': '20170658',\n",
       "  'movieNm': 'PMC: 더 벙커',\n",
       "  'openDt': '2018-12-26',\n",
       "  'salesAmt': '488207980',\n",
       "  'salesShare': '1.6',\n",
       "  'salesInten': '-4634378997',\n",
       "  'salesChange': '-90.5',\n",
       "  'salesAcc': '13976496874',\n",
       "  'audiCnt': '57525',\n",
       "  'audiInten': '-536249',\n",
       "  'audiChange': '-90.3',\n",
       "  'audiAcc': '1665204',\n",
       "  'scrnCnt': '670',\n",
       "  'showCnt': '5991'},\n",
       " {'rnum': '10',\n",
       "  'rank': '10',\n",
       "  'rankInten': '-4',\n",
       "  'rankOldAndNew': 'OLD',\n",
       "  'movieCd': '20175547',\n",
       "  'movieNm': '스윙키즈',\n",
       "  'openDt': '2018-12-19',\n",
       "  'salesAmt': '278702060',\n",
       "  'salesShare': '0.9',\n",
       "  'salesInten': '-1651955490',\n",
       "  'salesChange': '-85.6',\n",
       "  'salesAcc': '12026480662',\n",
       "  'audiCnt': '34868',\n",
       "  'audiInten': '-197987',\n",
       "  'audiChange': '-85.0',\n",
       "  'audiAcc': '1462874',\n",
       "  'scrnCnt': '510',\n",
       "  'showCnt': '2768'}]"
      ]
     },
     "execution_count": 31,
     "metadata": {},
     "output_type": "execute_result"
    }
   ],
   "source": [
    "data"
   ]
  },
  {
   "cell_type": "code",
   "execution_count": 46,
   "metadata": {},
   "outputs": [
    {
     "name": "stdout",
     "output_type": "stream",
     "text": [
      "{'1': '말모이', '2': '내안의 그놈', '3': '주먹왕 랄프 2: 인터넷 속으로', '4': '아쿠아맨', '5': '극장판 공룡메카드: 타이니소어의 섬'}\n"
     ]
    }
   ],
   "source": [
    "data[0]['movieNm']\n",
    "\n",
    "result = {\n",
    "    data[0]['rank']: data[0]['movieNm'],\n",
    "    data[1]['rank']: data[1]['movieNm'],\n",
    "    data[2]['rank']: data[2]['movieNm'],\n",
    "    data[3]['rank']: data[3]['movieNm'],\n",
    "    data[4]['rank']: data[4]['movieNm']\n",
    "}\n",
    "\n",
    "print(result)"
   ]
  },
  {
   "cell_type": "code",
   "execution_count": 53,
   "metadata": {},
   "outputs": [
    {
     "name": "stdout",
     "output_type": "stream",
     "text": [
      "{'rnum': '1', 'rank': '1', 'rankInten': '0', 'rankOldAndNew': 'NEW', 'movieCd': '20176814', 'movieNm': '신비한 동물들과 그린델왈드의 범죄', 'openDt': '2018-11-14', 'salesAmt': '13326169070', 'salesShare': '34.9', 'salesInten': '13326169070', 'salesChange': '100.0', 'salesAcc': '13326169070', 'audiCnt': '1519853', 'audiInten': '1519853', 'audiChange': '100.0', 'audiAcc': '1519853', 'scrnCnt': '1601', 'showCnt': '37186', 'targetDt': '20190113'}\n"
     ]
    }
   ],
   "source": [
    "Dates = ['20190113', '20190106', '20181230', '20181223', '20181216', '20181209', '20181202', '20181125', '20181118', '20181112']\n",
    "data[0]['targetDt'] = Dates[0]\n",
    "print(data[0])"
   ]
  },
  {
   "cell_type": "code",
   "execution_count": 77,
   "metadata": {
    "scrolled": true
   },
   "outputs": [
    {
     "name": "stdout",
     "output_type": "stream",
     "text": [
      "[['20184105', '말모이', '1185368', '20190113', '\\n'], ['20176251', '내안의 그놈', '765383', '20190113', '\\n'], ['20189463', '주먹왕 랄프 2: 인터넷 속으로', '1342315', '20190113', '\\n'], ['20180290', '아쿠아맨', '4920735', '20190113', '\\n'], ['20183915', '극장판 공룡메카드: 타이니소어의 섬', '289873', '20190113', '\\n'], ['20185485', '보헤미안 랩소디', '9785643', '20190113', '\\n'], ['20184574', '그린 북', '99569', '20190113', '\\n'], ['20186281', '범블비', '1553491', '20190113', '\\n'], ['20170658', 'PMC: 더 벙커', '1665204', '20190113', '\\n'], ['20175547', '스윙키즈', '1462874', '20190113', '\\n'], ['20183785', '점박이 한반도의 공룡2 : 새로운 낙원', '521053', '20190106', '\\n'], ['20184187', '언니', '172340', '20190106', '\\n'], ['20182421', '그린치', '543815', '20190106', '\\n'], ['20168773', '마약왕', '1787838', '20181230', '\\n'], ['20183479', '극장판 짱구는 못말려: 아뵤! 쿵후 보이즈 ~라면 대란~', '259753', '20181230', '\\n'], ['20183238', '스파이더맨: 뉴 유니버스', '628327', '20181230', '\\n'], ['20177552', '국가부도의 날', '3723915', '20181223', '\\n'], ['20179230', '도어락', '1546002', '20181223', '\\n'], ['20183375', '극장판 포켓몬스터 모두의 이야기', '86997', '20181223', '\\n'], ['20189843', '호두까기 인형과 4개의 왕국', '408425', '20181216', '\\n'], ['20182082', '부탁 하나만 들어줘', '87501', '20181216', '\\n'], ['20178825', '모털 엔진', '262070', '20181216', '\\n'], ['20183745', '런닝맨 : 풀룰루의 역습', '180709', '20181216', '\\n'], ['20177538', '완벽한 타인', '5270621', '20181216', '\\n'], ['20184481', '성난황소', '1567264', '20181209', '\\n'], ['20181905', '후드', '276658', '20181209', '\\n'], ['20176814', '신비한 동물들과 그린델왈드의 범죄', '2403686', '20181209', '\\n'], ['20183073', '베일리 어게인', '78439', '20181202', '\\n'], ['20181171', '바울', '229837', '20181202', '\\n'], ['20183007', '거미줄에 걸린 소녀', '25172', '20181202', '\\n'], ['20182966', '투 프렌즈', '20419', '20181202', '\\n'], ['20183050', '번 더 스테이지: 더 무비', '298402', '20181125', '\\n'], ['20182935', '출국', '71407', '20181125', '\\n'], ['20182669', '툴리', '24325', '20181125', '\\n'], ['20186822', '너의 췌장을 먹고 싶어', '48910', '20181125', '\\n'], ['20170513', '동네사람들', '445625', '20181118', '\\n'], ['20189869', '해피 투게더', '15745', '20181118', '\\n'], ['20174981', '창궐', '1588443', '20181111', '\\n'], ['20010291', '해리포터와 마법사의 돌', '259733', '20181111', '\\n'], ['20179006', '여곡성', '55997', '20181111', '\\n'], ['20181404', '벽 속에 숨은 마법시계', '211233', '20181111', '\\n'], ['20180523', '스타 이즈 본', '458917', '20181111', '\\n'], ['20182693', '구스범스: 몬스터의 역습', '21400', '20181111', '\\n']]\n"
     ]
    }
   ],
   "source": [
    "import requests\n",
    "\n",
    "result = []\n",
    "\n",
    "\n",
    "Dates = ['20190113', '20190106', '20181230', '20181223', '20181216', '20181209', '20181202', '20181125', '20181118', '20181111']\n",
    "\n",
    "for j in range(0,10):\n",
    "    targetDt = Dates[j]\n",
    "    URL = f'http://www.kobis.or.kr/kobisopenapi/webservice/rest/boxoffice/searchWeeklyBoxOfficeList.json?key={key}&targetDt={targetDt}&weekGb=0'\n",
    "    data = requests.get(URL).json()\n",
    "    data = data['boxOfficeResult']['weeklyBoxOfficeList']\n",
    "    for i in range(0,10):\n",
    "        data[i]['targetDt'] = targetDt\n",
    "        movie_info = []\n",
    "        if data[i]['movieNm'] not in sum(result, []):\n",
    "            movie_info.append(data[i]['movieCd'])\n",
    "            movie_info.append(data[i]['movieNm'])\n",
    "            movie_info.append(data[i]['audiAcc'])\n",
    "            movie_info.append(data[i]['targetDt'])\n",
    "            movie_info.append('\\n')\n",
    "            result.append(movie_info)\n",
    "\n",
    "print(result)"
   ]
  },
  {
   "cell_type": "code",
   "execution_count": 91,
   "metadata": {
    "scrolled": true
   },
   "outputs": [
    {
     "data": {
      "text/plain": [
       "43"
      ]
     },
     "execution_count": 91,
     "metadata": {},
     "output_type": "execute_result"
    }
   ],
   "source": [
    "len(result)"
   ]
  },
  {
   "cell_type": "code",
   "execution_count": 99,
   "metadata": {},
   "outputs": [
    {
     "name": "stdout",
     "output_type": "stream",
     "text": [
      "20184105, 말모이, 1185368, 20190113, \n",
      "\n"
     ]
    }
   ],
   "source": [
    "k = ['20184105', '말모이', '1185368', '20190113', '\\n']\n",
    "k =\", \".join(k) \n",
    "print(k)"
   ]
  },
  {
   "cell_type": "code",
   "execution_count": 76,
   "metadata": {},
   "outputs": [],
   "source": [
    "import csv"
   ]
  },
  {
   "cell_type": "code",
   "execution_count": 103,
   "metadata": {},
   "outputs": [],
   "source": [
    "f = open('boxoffice.csv', 'w+', encoding='utf-8')\n",
    "\n",
    "f.write('movie_code, title, audience, recorded_at \\n')\n",
    "\n",
    "for movie in result:\n",
    "    line = \", \".join(movie)\n",
    "    f.write(line)\n",
    "\n",
    "f.close()"
   ]
  }
 ],
 "metadata": {
  "kernelspec": {
   "display_name": "Python 3",
   "language": "python",
   "name": "python3"
  },
  "language_info": {
   "codemirror_mode": {
    "name": "ipython",
    "version": 3
   },
   "file_extension": ".py",
   "mimetype": "text/x-python",
   "name": "python",
   "nbconvert_exporter": "python",
   "pygments_lexer": "ipython3",
   "version": "3.6.7"
  }
 },
 "nbformat": 4,
 "nbformat_minor": 2
}
