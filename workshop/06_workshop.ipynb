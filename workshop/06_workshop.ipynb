{
 "cells": [
  {
   "cell_type": "markdown",
   "metadata": {},
   "source": [
    " 양의 정수 x를 입력 받아 제곱근의 근사값의 결과를 반환하는 함수를 작성하세요. "
   ]
  },
  {
   "cell_type": "code",
   "execution_count": 3,
   "metadata": {},
   "outputs": [
    {
     "data": {
      "text/plain": [
       "(2.0, 1.999999999985448, 2.000000000029104, 37)"
      ]
     },
     "execution_count": 3,
     "metadata": {},
     "output_type": "execute_result"
    }
   ],
   "source": [
    "def bisection (n, min_n=1, max_n=2, count = 0):\n",
    "    if count == 0:\n",
    "        max_n = n\n",
    "    k = (min_n+max_n)/2\n",
    "    count += 1\n",
    "    if round(min_n, 10) == round(max_n, 10):\n",
    "        return round(min_n, 4), min_n, max_n, count\n",
    "    elif n < k*k < max_n*max_n:\n",
    "        max_n = k\n",
    "        return bisection(n, min_n, max_n, count)\n",
    "    elif min_n**2 < k**2 < n:\n",
    "        min_n = k\n",
    "        return bisection(n, min_n, max_n, count)\n",
    "\n",
    "bisection(4)"
   ]
  }
 ],
 "metadata": {
  "kernelspec": {
   "display_name": "Python 3",
   "language": "python",
   "name": "python3"
  },
  "language_info": {
   "codemirror_mode": {
    "name": "ipython",
    "version": 3
   },
   "file_extension": ".py",
   "mimetype": "text/x-python",
   "name": "python",
   "nbconvert_exporter": "python",
   "pygments_lexer": "ipython3",
   "version": "3.6.7"
  }
 },
 "nbformat": 4,
 "nbformat_minor": 2
}
