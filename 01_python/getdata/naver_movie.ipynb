{
 "cells": [
  {
   "cell_type": "code",
   "execution_count": 1,
   "metadata": {},
   "outputs": [],
   "source": [
    "f = open('movie.csv', 'r',  encoding='utf8')\n",
    "result = []\n",
    "for line in f.readlines():\n",
    "    result.append(line.split(', '))\n",
    "f.close()\n",
    "\n",
    "fin = []\n",
    "for num in range(1,len(result)):\n",
    "    fin.append(result[num][1])\n",
    "\n",
    "fin = [0] + fin"
   ]
  },
  {
   "cell_type": "code",
   "execution_count": 2,
   "metadata": {},
   "outputs": [],
   "source": [
    "import requests\n",
    "import os\n",
    "\n",
    "client_id = os.getenv('NAVER_CLIENT_ID')\n",
    "client_secret = os.getenv('NAVER_CLIENT_SECRET')\n",
    "\n",
    "headers = {\n",
    "    'X-Naver-Client-Id': client_id,\n",
    "    'X-Naver-Client-Secret': client_secret \n",
    "}\n",
    "data = []\n",
    "\n",
    "for num in range(1, len(fin)):\n",
    "    naver_uri = f'https://openapi.naver.com/v1/search/movie.json?query='\n",
    "    res = requests.get(naver_uri + fin[num], headers = headers).json()\n",
    "    res['movCd'] = result[num][0]\n",
    "    data.append(res)\n",
    "    \n",
    "wr = []\n",
    "\n",
    "for movie in data:\n",
    "    info = []\n",
    "    info.append(movie['movCd'])\n",
    "    info.append(movie['items'][0]['image'])\n",
    "    info.append(movie['items'][0]['link'])\n",
    "    info.append(movie['items'][0]['userRating'])\n",
    "    info.append('\\n')\n",
    "    wr.append(info)"
   ]
  },
  {
   "cell_type": "code",
   "execution_count": 7,
   "metadata": {},
   "outputs": [],
   "source": [
    "import pickle\n",
    "import csv\n",
    "import urllib.request\n",
    "\n",
    "\n",
    "f = open('movie_naver.csv', 'w+', encoding='utf-8')\n",
    "\n",
    "f.write('movie_code, image, link, userrating, \\n')\n",
    "\n",
    "for info in wr:\n",
    "    line = \", \".join(info)\n",
    "    f.write(line)\n",
    "\n",
    "f.close()\n",
    "\n",
    "k = open('movie_naver.csv', 'r')\n",
    "lines = k.readlines()\n",
    "mvcode = []\n",
    "imgURL = []\n",
    "for line in lines:\n",
    "    mvcode.append(line.split(', ')[0])\n",
    "    imgURL.append(line.split(', ')[1])\n",
    "del mvcode[0]\n",
    "del imgURL[0]\n",
    "\n",
    "\n",
    "for num in range(0, len(mvcode)):\n",
    "    f = open(f'images/{mvcode[num]}.jpg', 'wb+')\n",
    "    urllib.request.urlretrieve(imgURL[num], f'images/{mvcode[num]}.jpg')\n"
   ]
  }
 ],
 "metadata": {
  "kernelspec": {
   "display_name": "Python 3",
   "language": "python",
   "name": "python3"
  },
  "language_info": {
   "codemirror_mode": {
    "name": "ipython",
    "version": 3
   },
   "file_extension": ".py",
   "mimetype": "text/x-python",
   "name": "python",
   "nbconvert_exporter": "python",
   "pygments_lexer": "ipython3",
   "version": "3.6.7"
  }
 },
 "nbformat": 4,
 "nbformat_minor": 2
}
