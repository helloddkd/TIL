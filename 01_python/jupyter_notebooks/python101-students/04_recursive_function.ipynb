{
 "cells": [
  {
   "cell_type": "code",
   "execution_count": 4,
   "metadata": {},
   "outputs": [],
   "source": [
    "# 애니메이션을 위해 꼭 실행시켜주세요.\n",
    "from IPython.display import IFrame    "
   ]
  },
  {
   "cell_type": "markdown",
   "metadata": {},
   "source": [
    "# 재귀 함수(recursive function)\n",
    "\n",
    "재귀 함수는 함수 내부에서 자기 자신을 호출 하는 함수를 뜻한다."
   ]
  },
  {
   "cell_type": "markdown",
   "metadata": {},
   "source": [
    "## 실습 문제 - 팩토리얼 계산\n",
    "\n",
    "> `팩토리얼(factorial)`을 계산하는 함수 `fact(n)`를 작성해봅시다. \n",
    ">\n",
    "> n은 1보다 큰 정수라고 가정하고, 팩토리얼을 계산한 값을 반환합니다.\n",
    "\n",
    "$$\n",
    "\\displaystyle n! = \\prod_{ k = 1 }^{ n }{ k }\n",
    "$$\n",
    "\n",
    "$$\n",
    "\\displaystyle n! = 1*2*3*...*(n-1)*n\n",
    "$$\n",
    "\n",
    "---\n",
    "```\n",
    "예시 출력)\n",
    "120\n",
    "```"
   ]
  },
  {
   "cell_type": "code",
   "execution_count": 1,
   "metadata": {},
   "outputs": [
    {
     "name": "stdout",
     "output_type": "stream",
     "text": [
      "24\n",
      "24\n"
     ]
    }
   ],
   "source": [
    "# 아래에 코드를 작성해주세요.\n",
    "def fact (n):\n",
    "    f=1   \n",
    "    for i in range(1,n+1):\n",
    "        f *= i\n",
    "    return f\n",
    "\n",
    "def facto (n):\n",
    "    result = 1\n",
    "    while n > 1:\n",
    "        result = result * n\n",
    "        n -= 1\n",
    "    return result\n",
    "        \n",
    "print(fact(4))    \n",
    "print(facto(4))"
   ]
  },
  {
   "cell_type": "code",
   "execution_count": 2,
   "metadata": {},
   "outputs": [
    {
     "data": {
      "text/plain": [
       "120"
      ]
     },
     "execution_count": 2,
     "metadata": {},
     "output_type": "execute_result"
    }
   ],
   "source": [
    "# 아래의 코드를 통해 fact(5) 함수를 호출해주세요.\n",
    "fact(5)"
   ]
  },
  {
   "cell_type": "markdown",
   "metadata": {},
   "source": [
    "## 예제 문제 - 재귀를 이용한 팩토리얼 계산\n",
    "\n",
    "```\n",
    "1! = 1\n",
    "2! = 1 * 2 = 1! * 2 \n",
    "3! = 1 * 2 * 3 = 2! * 3\n",
    "```"
   ]
  },
  {
   "cell_type": "code",
   "execution_count": 3,
   "metadata": {},
   "outputs": [],
   "source": [
    "# 아래에 재귀함수를 이용한 팩토리얼 계산을 해봅시다.\n",
    "def factorial(n):\n",
    "    return n * factorial(n - 1)"
   ]
  },
  {
   "cell_type": "code",
   "execution_count": 4,
   "metadata": {},
   "outputs": [
    {
     "ename": "RecursionError",
     "evalue": "maximum recursion depth exceeded",
     "output_type": "error",
     "traceback": [
      "\u001b[1;31m---------------------------------------------------------------------------\u001b[0m",
      "\u001b[1;31mRecursionError\u001b[0m                            Traceback (most recent call last)",
      "\u001b[1;32m<ipython-input-4-dba60f24a291>\u001b[0m in \u001b[0;36m<module>\u001b[1;34m\u001b[0m\n\u001b[0;32m      1\u001b[0m \u001b[1;31m# 아래의 코드를 통해 factorial(5) 함수를 호출해주세요.\u001b[0m\u001b[1;33m\u001b[0m\u001b[1;33m\u001b[0m\u001b[1;33m\u001b[0m\u001b[0m\n\u001b[1;32m----> 2\u001b[1;33m \u001b[0mfactorial\u001b[0m\u001b[1;33m(\u001b[0m\u001b[1;36m0\u001b[0m\u001b[1;33m)\u001b[0m\u001b[1;33m\u001b[0m\u001b[1;33m\u001b[0m\u001b[0m\n\u001b[0m",
      "\u001b[1;32m<ipython-input-3-66090a43d5b1>\u001b[0m in \u001b[0;36mfactorial\u001b[1;34m(n)\u001b[0m\n\u001b[0;32m      1\u001b[0m \u001b[1;31m# 아래에 재귀함수를 이용한 팩토리얼 계산을 해봅시다.\u001b[0m\u001b[1;33m\u001b[0m\u001b[1;33m\u001b[0m\u001b[1;33m\u001b[0m\u001b[0m\n\u001b[0;32m      2\u001b[0m \u001b[1;32mdef\u001b[0m \u001b[0mfactorial\u001b[0m\u001b[1;33m(\u001b[0m\u001b[0mn\u001b[0m\u001b[1;33m)\u001b[0m\u001b[1;33m:\u001b[0m\u001b[1;33m\u001b[0m\u001b[1;33m\u001b[0m\u001b[0m\n\u001b[1;32m----> 3\u001b[1;33m     \u001b[1;32mreturn\u001b[0m \u001b[0mn\u001b[0m \u001b[1;33m*\u001b[0m \u001b[0mfactorial\u001b[0m\u001b[1;33m(\u001b[0m\u001b[0mn\u001b[0m \u001b[1;33m-\u001b[0m \u001b[1;36m1\u001b[0m\u001b[1;33m)\u001b[0m\u001b[1;33m\u001b[0m\u001b[1;33m\u001b[0m\u001b[0m\n\u001b[0m",
      "... last 1 frames repeated, from the frame below ...\n",
      "\u001b[1;32m<ipython-input-3-66090a43d5b1>\u001b[0m in \u001b[0;36mfactorial\u001b[1;34m(n)\u001b[0m\n\u001b[0;32m      1\u001b[0m \u001b[1;31m# 아래에 재귀함수를 이용한 팩토리얼 계산을 해봅시다.\u001b[0m\u001b[1;33m\u001b[0m\u001b[1;33m\u001b[0m\u001b[1;33m\u001b[0m\u001b[0m\n\u001b[0;32m      2\u001b[0m \u001b[1;32mdef\u001b[0m \u001b[0mfactorial\u001b[0m\u001b[1;33m(\u001b[0m\u001b[0mn\u001b[0m\u001b[1;33m)\u001b[0m\u001b[1;33m:\u001b[0m\u001b[1;33m\u001b[0m\u001b[1;33m\u001b[0m\u001b[0m\n\u001b[1;32m----> 3\u001b[1;33m     \u001b[1;32mreturn\u001b[0m \u001b[0mn\u001b[0m \u001b[1;33m*\u001b[0m \u001b[0mfactorial\u001b[0m\u001b[1;33m(\u001b[0m\u001b[0mn\u001b[0m \u001b[1;33m-\u001b[0m \u001b[1;36m1\u001b[0m\u001b[1;33m)\u001b[0m\u001b[1;33m\u001b[0m\u001b[1;33m\u001b[0m\u001b[0m\n\u001b[0m",
      "\u001b[1;31mRecursionError\u001b[0m: maximum recursion depth exceeded"
     ]
    }
   ],
   "source": [
    "# 아래의 코드를 통해 factorial(5) 함수를 호출해주세요.\n",
    "factorial(0)"
   ]
  },
  {
   "cell_type": "code",
   "execution_count": null,
   "metadata": {
    "scrolled": false
   },
   "outputs": [],
   "source": [
    "# 실행 오류 뜨면 제일 상단에 import를 반드시 해주세요.\n",
    "IFrame(\"https://goo.gl/8Cmw2X\", width='100%', height='500px')"
   ]
  },
  {
   "cell_type": "markdown",
   "metadata": {},
   "source": [
    "* 재귀 함수는 기본적으로 같은 문제이지만 점점 범위가 줄어드는 문제를 풀게 된다.\n",
    "\n",
    "* 재귀함수를 작성시에는 반드시, `base case`가 존재 하여야 한다. \n",
    "\n",
    "* `base case`는 점점 범위가 줄어들어 반복되지 않는 최종적으로 도달하는 곳이다. \n",
    "\n",
    "재귀를 이용한 팩토리얼 계산에서의 base case는 n이 1일때, 함수가 아닌 정수 반환하는 것이다."
   ]
  },
  {
   "cell_type": "markdown",
   "metadata": {},
   "source": [
    "* 자기 자신을 호출하는 재귀함수는 알고리즘 구현시 많이 사용된다.\n",
    "* 코드가 더 직관적이고 이해하기 쉬운 경우가 있음. (하지만, 만들기는 어려움)\n",
    "* [Python Tutor](https://goo.gl/k1hQYz)에 보면, 함수가 호출될 때마다 메모리 공간에 쌓이는 것을 볼 수 있다. \n",
    "* 이 경우, 메모리 스택이 넘치거나(Stack overflow) 프로그램 실행 속도가 늘어지는 단점이 생긴다.\n",
    "* 파이썬에서는 이를 방지하기 위해 1,000번이 넘어가게 되면 더이상 함수를 호출하지 않고, 종료된다."
   ]
  },
  {
   "cell_type": "code",
   "execution_count": null,
   "metadata": {},
   "outputs": [],
   "source": [
    "# 여기에서 오류를 확인해보자!"
   ]
  },
  {
   "cell_type": "markdown",
   "metadata": {},
   "source": [
    "## 실습문제 - 피보나치 수열\n",
    "\n",
    "> 피보나치 수열은 다음과 같은 점화식이 있다. \n",
    ">\n",
    "> 피보나치 값을 리턴하는 두가지 방식의 코드를 모두 작성해보자.\n",
    "\n",
    "$$\n",
    "\\displaystyle F_0 = F_1 = 1\n",
    "$$\n",
    "\n",
    "$$\n",
    "F_n=F_{n-1}+F_{n-2}\\qquad(n\\in\\{2,3,4,\\dots\\})\n",
    "$$\n",
    "\n",
    "1) `fib(n)` : 재귀함수\n",
    "\n",
    "2) `fib_loop(n)` : 반복문 활용한 함수\n",
    "\n",
    "---\n",
    "```\n",
    "예시 입력)\n",
    "fib(10)\n",
    "\n",
    "예시 호출)\n",
    "89\n",
    "```"
   ]
  },
  {
   "cell_type": "code",
   "execution_count": 5,
   "metadata": {},
   "outputs": [
    {
     "name": "stdout",
     "output_type": "stream",
     "text": [
      "[1]\n",
      "[1, 1]\n",
      "[1, 1, 2]\n",
      "[1, 1, 2, 3]\n",
      "[1, 1, 2, 3, 5, 8, 13, 21, 34, 55]\n"
     ]
    }
   ],
   "source": [
    "# 아래에 재귀를 이용한 코드를 작성해주세요.\n",
    "\n",
    "def fib(n):\n",
    "    if n in (0, 1):\n",
    "        return 1\n",
    "    elif n > 1: \n",
    "        return fib(n-1)+fib(n-2)\n",
    "\n",
    "def fib_loop(n):\n",
    "    result=[1,1]\n",
    "    if n == 0:\n",
    "        result = [1]\n",
    "        return result\n",
    "    elif n == 1:\n",
    "        return result\n",
    "    else: \n",
    "        for i in range(2, n):\n",
    "            result.append(fib(i-1)+fib(i-2))\n",
    "        return result\n",
    "\n",
    "print(fib_loop(0))\n",
    "print(fib_loop(2))\n",
    "print(fib_loop(3))\n",
    "print(fib_loop(4))\n",
    "print(fib_loop(10))\n",
    "\n",
    "# 1 1 2 3 5 8 13 21 34 "
   ]
  },
  {
   "cell_type": "code",
   "execution_count": 6,
   "metadata": {},
   "outputs": [
    {
     "data": {
      "text/plain": [
       "89"
      ]
     },
     "execution_count": 6,
     "metadata": {},
     "output_type": "execute_result"
    }
   ],
   "source": [
    "# 아래의 코드를 통해 fib 함수를 호출해주세요.\n",
    "fib(10)"
   ]
  },
  {
   "cell_type": "code",
   "execution_count": 7,
   "metadata": {},
   "outputs": [
    {
     "data": {
      "text/plain": [
       "[1, 1, 2, 3, 5, 8, 13, 21, 34, 55]"
      ]
     },
     "execution_count": 7,
     "metadata": {},
     "output_type": "execute_result"
    }
   ],
   "source": [
    "# 아래의 코드를 통해 fib_loop(5) 함수를 호출해주세요.\n",
    "fib_loop(10)"
   ]
  },
  {
   "cell_type": "markdown",
   "metadata": {},
   "source": [
    "## 반복문과 재귀 함수의 차이"
   ]
  },
  {
   "cell_type": "code",
   "execution_count": 8,
   "metadata": {},
   "outputs": [
    {
     "data": {
      "text/plain": [
       "5702887"
      ]
     },
     "execution_count": 8,
     "metadata": {},
     "output_type": "execute_result"
    }
   ],
   "source": [
    "# 큰 숫자를 재귀로 짜여진 fib()함수의 인자로 넘겨보세요.\n",
    "fib(33)"
   ]
  },
  {
   "cell_type": "code",
   "execution_count": null,
   "metadata": {
    "scrolled": false
   },
   "outputs": [],
   "source": [
    "# 100배 되는 숫자를 반복문으로 짜여진 fib_loop()인자로 넘겨보세요.\n",
    "fib_loop(3300)"
   ]
  },
  {
   "cell_type": "code",
   "execution_count": 5,
   "metadata": {},
   "outputs": [
    {
     "data": {
      "text/html": [
       "\n",
       "        <iframe\n",
       "            width=\"100%\"\n",
       "            height=\"300px\"\n",
       "            src=\"https://goo.gl/JZ7s15\"\n",
       "            frameborder=\"0\"\n",
       "            allowfullscreen\n",
       "        ></iframe>\n",
       "        "
      ],
      "text/plain": [
       "<IPython.lib.display.IFrame at 0x24f3028eeb8>"
      ]
     },
     "execution_count": 5,
     "metadata": {},
     "output_type": "execute_result"
    }
   ],
   "source": [
    "# 실행 오류 뜨면 제일 상단에 import를 반드시 해주세요.\n",
    "IFrame('https://goo.gl/JZ7s15', width='100%', height='300px')"
   ]
  },
  {
   "cell_type": "markdown",
   "metadata": {},
   "source": [
    "### 실습문제 - chicken coupon\n",
    "> ex) 치킨쿠폰 3장을 모으면 한 마리를 줍니다. 한 마리를 시키면 한 장을 줍니다. n장이 있을 때, 몇 마리까지 먹을 수 있는지를 체크해보세요.\n",
    "> ex) 10장의 경우 : 7장 + 1장 => 5 + 1 => 3 + 1 => 1 + 1 \n",
    "> ex) 15장의 경우 : 12 +1 => 10 + 1 => 8 + 1 => 6 +1 => \n",
    "\n",
    "n-3 + 1 = n\n",
    "n-3 + 1 = n\n"
   ]
  },
  {
   "cell_type": "code",
   "execution_count": 24,
   "metadata": {},
   "outputs": [
    {
     "data": {
      "text/plain": [
       "33"
      ]
     },
     "execution_count": 24,
     "metadata": {},
     "output_type": "execute_result"
    }
   ],
   "source": [
    "def free_chicken(coupon, free=3, chick=0):\n",
    "    chick += coupon // free\n",
    "    temp = coupon % free\n",
    "    coupon //= free\n",
    "    coupon += temp\n",
    "    if coupon >= free:\n",
    "        return free_chicken(coupon, free, chick)\n",
    "    else:\n",
    "        return chick\n",
    "\n",
    "free_chicken(100, 4)"
   ]
  },
  {
   "cell_type": "code",
   "execution_count": 37,
   "metadata": {},
   "outputs": [
    {
     "name": "stdout",
     "output_type": "stream",
     "text": [
      "94\n"
     ]
    }
   ],
   "source": [
    "#교수님 답\n",
    "def free_chicken(coupon, N, chicken=0):\n",
    "    if coupon < N:\n",
    "        return chicken\n",
    "    else: \n",
    "        coupon -= 3\n",
    "        chicken += 1\n",
    "        coupon += 1\n",
    "        return free_chicken(coupon, N, chicken)\n",
    "\n",
    "print(free_chicken(190, 3))"
   ]
  },
  {
   "cell_type": "markdown",
   "metadata": {},
   "source": [
    "### 셀프실습\n",
    "x의 n제곱 함수화하기"
   ]
  },
  {
   "cell_type": "code",
   "execution_count": 23,
   "metadata": {},
   "outputs": [
    {
     "data": {
      "text/plain": [
       "9"
      ]
     },
     "execution_count": 23,
     "metadata": {},
     "output_type": "execute_result"
    }
   ],
   "source": [
    "def power (x, n):\n",
    "    if n == 0:\n",
    "        return 1\n",
    "    elif n>=1 :\n",
    "        return power(x, n-1) * x\n",
    "\n",
    "power(3,2)"
   ]
  },
  {
   "cell_type": "markdown",
   "metadata": {},
   "source": [
    "함수화할 때는 함수 밖에서 그냥 코드짤 때와 달라서 모든 것이 조건문 안에 있을 필요가 없다.\n",
    "재귀함수는 반드시 return들 중 한 곳에는 함수 자신이 들어가 있어야 한다.\n",
    "유닛에서 가장 작은 단위 함수 만들어서 반복\n",
    "\n",
    "인자를 재귀함수로 돌린다.\n"
   ]
  },
  {
   "cell_type": "markdown",
   "metadata": {},
   "source": [
    "## 실습문제 - 하노이의 탑\n",
    "\n",
    "> 다음은 하노이의 탑이다. \n",
    ">\n",
    "> 하노이의 탑을 풀이하는 해법(한쪽 탑의 원판을 다른 탑으로 모두 옮기는 법을 출력하는 함수를 만드세요.\n",
    "\n",
    "<br>\n",
    "<br>\n",
    "<center>\n",
    "    <img src=\"./images/04/hanoi.gif\", alt=\"\">\n",
    "</center>\n",
    "\n",
    "1. 한 번에 한개의 층만을 다른 기둥으로 옮길 수 있다\n",
    "2. 옮기려는 기둥에는 아무것도 없거나 옮기려는 층보다 큰 층이 있을 경우에만 옮길 수 있다\n",
    "3. 옮기려는 기둥에 옮기려는 층보다 작은 층이 이미 있을 경우 그 기둥으로 옮길 수 없다.\n",
    "4. 가능한 적은 회수로 전체 탑을 다른 기둥으로 옮긴다."
   ]
  },
  {
   "cell_type": "markdown",
   "metadata": {},
   "source": [
    "### 실습문제 - 개미수열(Look&Say)\n",
    "> 숫자를 세어서 몇 개인지 말해요.\n",
    "\n",
    "\"\"\"\n",
    "n=0\n",
    "[1]\n",
    "n = 1\n",
    "[1,1]\n",
    "n = 2\n",
    "[1,2]\n",
    "n=3\n",
    "[1,1,2,1]\n",
    "n=4\n",
    "[1,2,2,1,1,1]\n",
    "n=5\n",
    "[1,1,2,2,1,3]\n",
    "n=6\n",
    "[1,2,2,2,1,1,3,1]\n",
    "\"\"\""
   ]
  },
  {
   "cell_type": "code",
   "execution_count": 83,
   "metadata": {},
   "outputs": [
    {
     "name": "stdout",
     "output_type": "stream",
     "text": [
      "None\n"
     ]
    }
   ],
   "source": [
    "def look_and_say(n):\n",
    "    num = 1\n",
    "    result = [1]\n",
    "    count = 0\n",
    "    \n",
    "    if n == 0:\n",
    "        return result\n",
    "    elif n >= 1:\n",
    "        count = 0\n",
    "        for i in range(len(result)-1):\n",
    "            if result[i] == result[i+1]:\n",
    "                count += 1\n",
    "            elif i == len(result)+1:\n",
    "                return result\n",
    "            else:\n",
    "                result.append(count)\n",
    "                num = result[i+1]\n",
    "                result.append(num)\n",
    "                return result\n",
    "\n",
    "print(look_and_say(4))"
   ]
  },
  {
   "cell_type": "code",
   "execution_count": 8,
   "metadata": {},
   "outputs": [],
   "source": [
    "def ant (n):\n",
    "    num = 1\n",
    "    result = [1]\n",
    "    count = 1\n",
    "    if n == 0:\n",
    "        return [1]\n",
    "    else:\n",
    "        for i in len(ant(n-1)):\n",
    "            result.append(ant(n-1)[i])\n",
    "            if ant(n-1)[i] == ant(n-1)[i+1]:\n",
    "                count += 1\n",
    "            elif i == len(ant(n-1)+1):\n",
    "                result.append()\n"
   ]
  },
  {
   "cell_type": "code",
   "execution_count": 6,
   "metadata": {},
   "outputs": [
    {
     "ename": "IndentationError",
     "evalue": "unindent does not match any outer indentation level (<tokenize>, line 6)",
     "output_type": "error",
     "traceback": [
      "\u001b[1;36m  File \u001b[1;32m\"<tokenize>\"\u001b[1;36m, line \u001b[1;32m6\u001b[0m\n\u001b[1;33m    String result = \"\";\u001b[0m\n\u001b[1;37m    ^\u001b[0m\n\u001b[1;31mIndentationError\u001b[0m\u001b[1;31m:\u001b[0m unindent does not match any outer indentation level\n"
     ]
    }
   ],
   "source": [
    "def LookAndSay ():\n",
    "    s = \"1\"\n",
    "    for line in range(10):\n",
    "        length = 1\n",
    "        head = s.charAt(0);\n",
    "      String result = \"\";\n",
    "      for (int i = 1; i < s.length(); i++) {\n",
    "        if (s.charAt(i) == head) {\n",
    "          length++;\n",
    "        } else {\n",
    "          result += length;\n",
    "          result += head;\n",
    "          length = 1;\n",
    "          head = s.charAt(i);\n",
    "        }\n",
    "      }\n",
    "      result += length;\n",
    "      result += head;\n",
    "      s = result;\n",
    "    }\n",
    "    System.out.println(s);\n",
    "  }\n",
    "}"
   ]
  },
  {
   "cell_type": "code",
   "execution_count": 14,
   "metadata": {},
   "outputs": [
    {
     "name": "stdout",
     "output_type": "stream",
     "text": [
      "11\n",
      "12\n",
      "1121\n",
      "122111\n",
      "112213\n",
      "12221131\n",
      "1123123111\n",
      "12213111213113\n",
      "11221131132111311231\n",
      "12221231123121133112213111\n"
     ]
    }
   ],
   "source": [
    "\n",
    "    char = \"1\"\n",
    "    output = \"\"\n",
    "\n",
    "    for i in range(10):\n",
    "        j = 0\n",
    "        while j < len(char):\n",
    "            curr = char[j]\n",
    "            count = 1\n",
    "            while j+1 < len(char) and curr == char[j+1]:\n",
    "                count += 1\n",
    "                j += 1\n",
    "            output += curr + str(count)\n",
    "            j += 1\n",
    "        print (output)\n",
    "        char = output\n",
    "        output = \"\"\n",
    "\n"
   ]
  },
  {
   "cell_type": "code",
   "execution_count": 35,
   "metadata": {},
   "outputs": [
    {
     "name": "stdout",
     "output_type": "stream",
     "text": [
      "\n"
     ]
    }
   ],
   "source": [
    "def ant(n):\n",
    "    char = \"1\"\n",
    "    output = \"\"\n",
    "    for i in range(n):\n",
    "        j = 0\n",
    "        while j < len(char):\n",
    "            curr = char[j]\n",
    "            count = 1\n",
    "            while j+1 < len(char) and curr == char[j+1]:\n",
    "                count += 1\n",
    "                j += 1\n",
    "            output += curr + str(count)\n",
    "            j += 1   \n",
    "            char = output\n",
    "            output = \"\"\n",
    "    if n == 0:\n",
    "        return \"1\"\n",
    "    elif n > 0:\n",
    "        return output\n",
    "    \n",
    "print(ant(3))"
   ]
  },
  {
   "cell_type": "code",
   "execution_count": null,
   "metadata": {},
   "outputs": [],
   "source": [
    "def ant(n):\n",
    "    char = \"1\"\n",
    "    \n",
    "    if n == 0:\n",
    "        return \"1\"\n",
    "    else:\n",
    "        j = 0\n",
    "        output = \"\"\n",
    "        while j < len(ant(n-1)):\n",
    "            curr = ant(n-1)[j]\n",
    "            count = 1\n",
    "            while j+1 < len(ant(n-1)) and curr == ant(n-1)[j+1]:\n",
    "                count += 1\n",
    "                j += 1\n",
    "            output += curr + str(count)\n",
    "        return output\n",
    "print(ant(3))"
   ]
  },
  {
   "cell_type": "code",
   "execution_count": 13,
   "metadata": {},
   "outputs": [
    {
     "data": {
      "text/plain": [
       "[1, 2, 2, 1, 1, 1]"
      ]
     },
     "execution_count": 13,
     "metadata": {},
     "output_type": "execute_result"
    }
   ],
   "source": [
    "#교수님 답. look and say로 함수를 분할하고, 입력리스트에서 이미 본 값은 지워버린다.\n",
    "\"\"\"\n",
    "1. remain[0]을 본다.\n",
    "2. remain[0]을 본 것과 다른 게 나올 때까지 센다.\n",
    "3. result에 본 것과 센 것을 더한다.\n",
    "4. remain에서 이미 본 것은 자른다.\n",
    "...\n",
    "?. remain이 비게 되면, result를 remain으로 바꾼다. + n = n-1\n",
    "?. n이 0이 되면 remain을 리턴한다.\n",
    "\"\"\"\n",
    "\n",
    "def look_and_say (n, start=[1], end=[]):\n",
    "    if n == 0:\n",
    "        return start\n",
    "    look = start[0]\n",
    "    say = 0\n",
    "    for index, number in enumerate(start):\n",
    "        #보던 애가 계속 나오면\n",
    "        if number == look:\n",
    "            say += 1\n",
    "        #못보던 애가 나오면\n",
    "        else:\n",
    "            del(start[0:index])\n",
    "            break\n",
    "            #자른다.\n",
    "            # 다른 숫자가 나왔을 때랑 끝난 거랑 다르다.\n",
    "    else: #for else 포문을 다 보면\n",
    "        start = []\n",
    "# end 뒤에 look과 say를 붙인다.\n",
    "    end = end + [look, say]\n",
    "    \n",
    "#포문 다 돌았는데 \n",
    "#start가 비어있다면 \n",
    "    if not start:\n",
    "        return look_and_say(n-1, end, []) \n",
    "#start에 뭐가 남아있다면   \n",
    "    else:\n",
    "        return look_and_say(n, start, end)\n",
    "\n",
    "look_and_say(4)"
   ]
  },
  {
   "cell_type": "code",
   "execution_count": null,
   "metadata": {},
   "outputs": [],
   "source": [
    "# 아래에 코드를 작성해주세요."
   ]
  },
  {
   "cell_type": "code",
   "execution_count": 14,
   "metadata": {},
   "outputs": [
    {
     "data": {
      "text/plain": [
       "[]"
      ]
     },
     "execution_count": 14,
     "metadata": {},
     "output_type": "execute_result"
    }
   ],
   "source": [
    "l = [1,1,1,2,2,2]\n",
    "del(l[0:3])\n",
    "l\n",
    "del(l[0:3])\n",
    "l"
   ]
  },
  {
   "cell_type": "code",
   "execution_count": 15,
   "metadata": {},
   "outputs": [
    {
     "name": "stdout",
     "output_type": "stream",
     "text": [
      "[1, 1, 2, 2, 1, 3]\n"
     ]
    }
   ],
   "source": [
    "##강진우님 꺼\n",
    "def look_and_say(n) :\n",
    "    if n == 0 :\n",
    "        return [1]\n",
    "    else :\n",
    "        list_1 = look_and_say(n - 1)\n",
    "        list_2 = []\n",
    "        number = 0;\n",
    "        num_cnt = 0;\n",
    "        i = 0;\n",
    "        while i < len(list_1) :\n",
    "            if number != list_1[i] :\n",
    "                if i != 0 :\n",
    "                    list_2.append(num_cnt)\n",
    "                list_2.append(list_1[i])\n",
    "                number = list_1[i]\n",
    "                num_cnt = 1\n",
    "            else :\n",
    "                num_cnt += 1\n",
    "            i += 1\n",
    "        list_2.append(num_cnt)\n",
    "        return list_2\n",
    "print(look_and_say(5))"
   ]
  }
 ],
 "metadata": {
  "kernelspec": {
   "display_name": "Python 3",
   "language": "python",
   "name": "python3"
  },
  "language_info": {
   "codemirror_mode": {
    "name": "ipython",
    "version": 3
   },
   "file_extension": ".py",
   "mimetype": "text/x-python",
   "name": "python",
   "nbconvert_exporter": "python",
   "pygments_lexer": "ipython3",
   "version": "3.6.7"
  },
  "latex_envs": {
   "LaTeX_envs_menu_present": true,
   "autoclose": false,
   "autocomplete": true,
   "bibliofile": "biblio.bib",
   "cite_by": "apalike",
   "current_citInitial": 1,
   "eqLabelWithNumbers": true,
   "eqNumInitial": 1,
   "hotkeys": {
    "equation": "Ctrl-E",
    "itemize": "Ctrl-I"
   },
   "labels_anchors": false,
   "latex_user_defs": false,
   "report_style_numbering": false,
   "user_envs_cfg": false
  },
  "toc": {
   "base_numbering": 1,
   "nav_menu": {},
   "number_sections": true,
   "sideBar": true,
   "skip_h1_title": false,
   "title_cell": "Table of Contents",
   "title_sidebar": "Contents",
   "toc_cell": false,
   "toc_position": {},
   "toc_section_display": true,
   "toc_window_display": false
  }
 },
 "nbformat": 4,
 "nbformat_minor": 2
}
