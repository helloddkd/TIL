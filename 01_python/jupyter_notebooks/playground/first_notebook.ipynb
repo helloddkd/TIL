{
 "cells": [
  {
   "cell_type": "code",
   "execution_count": 1,
   "metadata": {},
   "outputs": [],
   "source": [
    "last_name='Baik '\n",
    "first_name='Ji Won'"
   ]
  },
  {
   "cell_type": "code",
   "execution_count": 2,
   "metadata": {},
   "outputs": [
    {
     "data": {
      "text/plain": [
       "'Baik Ji Won'"
      ]
     },
     "execution_count": 2,
     "metadata": {},
     "output_type": "execute_result"
    }
   ],
   "source": [
    "last_name+first_name"
   ]
  },
  {
   "cell_type": "code",
   "execution_count": 3,
   "metadata": {},
   "outputs": [
    {
     "data": {
      "text/plain": [
       "32768"
      ]
     },
     "execution_count": 3,
     "metadata": {},
     "output_type": "execute_result"
    }
   ],
   "source": [
    "2 ** 15"
   ]
  },
  {
   "cell_type": "code",
   "execution_count": 4,
   "metadata": {},
   "outputs": [
    {
     "data": {
      "text/plain": [
       "'Baik Ji Won'"
      ]
     },
     "execution_count": 4,
     "metadata": {},
     "output_type": "execute_result"
    }
   ],
   "source": [
    "full_name = last_name + first_name\n",
    "full_name"
   ]
  },
  {
   "cell_type": "code",
   "execution_count": 132,
   "metadata": {},
   "outputs": [
    {
     "name": "stdout",
     "output_type": "stream",
     "text": [
      "첫 번째 숫자를 입력하세요: 100\n",
      "두 번째 숫자를 입력하세요: 24\n"
     ]
    }
   ],
   "source": [
    "num1 = int(input('첫 번째 숫자를 입력하세요: '))  \n",
    "num2 = int(input('두 번째 숫자를 입력하세요: '))"
   ]
  },
  {
   "cell_type": "code",
   "execution_count": 133,
   "metadata": {},
   "outputs": [
    {
     "name": "stdout",
     "output_type": "stream",
     "text": [
      "입력하신 숫자 100 ,  24 의 최대공약수는  4 , 최소공배수는  600 입니다\n"
     ]
    }
   ],
   "source": [
    "def gcd(a, b):\n",
    "    if a < b:\n",
    "        (a, b) = (b, a)\n",
    "    while b != 0:\n",
    "        (a, b) = (b, a % b)\n",
    "    return a\n",
    "        \n",
    "result=gcd(num1,num2)\n",
    "times=num1*num2\n",
    "lcn=int(times/result)\n",
    "\n",
    "print('입력하신 숫자', num1, ', ',num2,'의 최대공약수는 ',result,', 최소공배수는 ',lcn, '입니다')"
   ]
  }
 ],
 "metadata": {
  "kernelspec": {
   "display_name": "Python 3",
   "language": "python",
   "name": "python3"
  },
  "language_info": {
   "codemirror_mode": {
    "name": "ipython",
    "version": 3
   },
   "file_extension": ".py",
   "mimetype": "text/x-python",
   "name": "python",
   "nbconvert_exporter": "python",
   "pygments_lexer": "ipython3",
   "version": "3.6.7"
  }
 },
 "nbformat": 4,
 "nbformat_minor": 2
}
