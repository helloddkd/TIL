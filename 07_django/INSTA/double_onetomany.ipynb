{
 "cells": [
  {
   "cell_type": "markdown",
   "metadata": {},
   "source": [
    "\n",
    "\n",
    "\n",
    "\n",
    "# one to many model -2\n",
    "\n",
    "## Writer\n",
    "\n",
    "| id      | name      |\n",
    "| ------- | --------- |\n",
    "| PK, int | CharField |\n",
    "\n",
    "\n",
    "\n",
    "## Article\n",
    "\n",
    "| id      | author          | title     | description |\n",
    "| ------- | --------------- | --------- | ----------- |\n",
    "| PK, int | FK, Writer, int | CharField | TextField   |\n",
    "\n",
    "\n",
    "\n",
    "## Chapter\n",
    "\n",
    "| id      | book_id       | title     | description |\n",
    "| ------- | ------------- | --------- | ----------- |\n",
    "| PK, int | FK, Book, int | CharField | TextField   |\n",
    "\n"
   ]
  },
  {
   "cell_type": "code",
   "execution_count": 1,
   "metadata": {},
   "outputs": [
    {
     "data": {
      "text/plain": [
       "<Writer: Writer object (2)>"
      ]
     },
     "execution_count": 1,
     "metadata": {},
     "output_type": "execute_result"
    }
   ],
   "source": [
    "Writer.objects.create(name='이선 브라운')"
   ]
  },
  {
   "cell_type": "code",
   "execution_count": 2,
   "metadata": {},
   "outputs": [
    {
     "data": {
      "text/plain": [
       "<Book: Book object (3)>"
      ]
     },
     "execution_count": 2,
     "metadata": {},
     "output_type": "execute_result"
    }
   ],
   "source": [
    "Book.objects.create(title='learning javascript',\n",
    "                   description = 'ES6로 제대로 입문하는 모던 자바스크립트 웹개발',\n",
    "                   author = Writer.objects.get(name__contains='이선 브라운'))\n",
    "\n",
    "Book.objects.create(title='learning python',\n",
    "                   description = 'python 3.7로 제대로 입문하는 파이썬',\n",
    "                   author = Writer.objects.get(name__contains='이선 브라운'))\n",
    "\n",
    "Chapter.objects.create(book=Book.objects.get(id=3), title='first application',\n",
    "                      description='시작은 브라우저에서')\n",
    "\n",
    "Chapter.objects.create(book=Book.objects.get(id=3), title='develop tool',\n",
    "                      description='transcompiler')\n",
    "\n",
    "Chapter.objects.create(book=Book.objects.get(id=4), title='Python basic grammar',\n",
    "                      description='변수, 문자열, 숫자, 참거짓')\n",
    "\n",
    "Chapter.objects.create(book=Book.objects.get(id=4), title='python 자료구조',\n",
    "                      description='리스트, 딕셔너리, 튜플, 세트')"
   ]
  },
  {
   "cell_type": "code",
   "execution_count": 39,
   "metadata": {},
   "outputs": [],
   "source": [
    "#딕셔너리라는 챕터명을 가진 책의 저자가 쓴 모든 책\n",
    "\n",
    "books = Chapter.objects.filter(description__contains='딕셔너리')[0].book.author.book_set.all()"
   ]
  },
  {
   "cell_type": "code",
   "execution_count": 40,
   "metadata": {},
   "outputs": [
    {
     "name": "stdout",
     "output_type": "stream",
     "text": [
      "learning javascript\n",
      "learning python\n"
     ]
    }
   ],
   "source": [
    "for book in books:\n",
    "    print(book.title)"
   ]
  },
  {
   "cell_type": "code",
   "execution_count": 33,
   "metadata": {},
   "outputs": [
    {
     "data": {
      "text/plain": [
       "<QuerySet [<Book: Book object (3)>, <Book: Book object (4)>]>"
      ]
     },
     "execution_count": 33,
     "metadata": {},
     "output_type": "execute_result"
    }
   ],
   "source": [
    "Book.objects.filter(created__year=2019)[2:5]"
   ]
  },
  {
   "cell_type": "code",
   "execution_count": 37,
   "metadata": {},
   "outputs": [
    {
     "data": {
      "text/plain": [
       "<QuerySet [<Book: Book object (3)>, <Book: Book object (4)>]>"
      ]
     },
     "execution_count": 37,
     "metadata": {},
     "output_type": "execute_result"
    }
   ],
   "source": [
    "Book.objects.filter(created__year__gt=2018)[2:5]"
   ]
  },
  {
   "cell_type": "code",
   "execution_count": 38,
   "metadata": {
    "scrolled": true
   },
   "outputs": [
    {
     "name": "stdout",
     "output_type": "stream",
     "text": [
      "SELECT \"onetomany_book\".\"id\", \"onetomany_book\".\"created\", \"onetomany_book\".\"modified\", \"onetomany_book\".\"author_id\", \"onetomany_book\".\"title\", \"onetomany_book\".\"description\" FROM \"onetomany_book\"  LIMIT 2 OFFSET 1\n"
     ]
    }
   ],
   "source": [
    "print(Book.objects.all()[1:3].query)"
   ]
  },
  {
   "cell_type": "markdown",
   "metadata": {},
   "source": [
    "\n",
    "## Student\n",
    "\n",
    "| id(PK) | name          |\n",
    "| ------ | ------------- |\n",
    "| INT    | CharField(20) |\n",
    "\n",
    "\n",
    "\n",
    "## Message\n",
    "\n",
    "| id(PK) | content   | student(FK)-Student |\n",
    "| ------ | --------- | ------------------- |\n",
    "| INT    | CharField | INT                 |\n",
    "\n",
    "\n",
    "\n",
    "## Reply\n",
    "\n",
    "| id(PK) | content       | student(FK)-Student | mesage(FK)-Message |\n",
    "| ------ | ------------- | ------------------- | ------------------ |\n",
    "| INT    | CharField(30) | INT                 | INT                |\n",
    "\n"
   ]
  }
 ],
 "metadata": {
  "kernelspec": {
   "display_name": "Django Shell-Plus",
   "language": "python",
   "name": "django_extensions"
  },
  "language_info": {
   "codemirror_mode": {
    "name": "ipython",
    "version": 3
   },
   "file_extension": ".py",
   "mimetype": "text/x-python",
   "name": "python",
   "nbconvert_exporter": "python",
   "pygments_lexer": "ipython3",
   "version": "3.7.3"
  }
 },
 "nbformat": 4,
 "nbformat_minor": 2
}
