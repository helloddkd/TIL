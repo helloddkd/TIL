{
 "cells": [
  {
   "cell_type": "markdown",
   "metadata": {},
   "source": [
    "Day 1. "
   ]
  },
  {
   "cell_type": "markdown",
   "metadata": {},
   "source": [
    "Workshop"
   ]
  },
  {
   "cell_type": "code",
   "execution_count": 7,
   "metadata": {},
   "outputs": [],
   "source": [
    "#문제1\n",
    "n=5\n",
    "m=9"
   ]
  },
  {
   "cell_type": "code",
   "execution_count": 23,
   "metadata": {
    "scrolled": true
   },
   "outputs": [
    {
     "name": "stdout",
     "output_type": "stream",
     "text": [
      "*****\n",
      "*****\n",
      "*****\n",
      "*****\n",
      "*****\n",
      "*****\n",
      "*****\n",
      "*****\n",
      "*****\n",
      "\n"
     ]
    }
   ],
   "source": [
    "#정답\n",
    "#가로 5 세로 9인 직사각형을 별문자로 출력\n",
    "\n",
    "print(('*'*n+'\\n')*m)"
   ]
  },
  {
   "cell_type": "code",
   "execution_count": null,
   "metadata": {},
   "outputs": [],
   "source": [
    "#문제2\n",
    "student = { 'python':80, 'algorithm':99, 'django':89, 'flask':83 }"
   ]
  },
  {
   "cell_type": "code",
   "execution_count": 13,
   "metadata": {},
   "outputs": [
    {
     "data": {
      "text/plain": [
       "87.75"
      ]
     },
     "execution_count": 13,
     "metadata": {},
     "output_type": "execute_result"
    }
   ],
   "source": [
    "#정답\n",
    "score=list(student.values())\n",
    "aver=sum(score)/len(score)\n",
    "aver"
   ]
  },
  {
   "cell_type": "code",
   "execution_count": null,
   "metadata": {},
   "outputs": [],
   "source": [
    "#문제3\n",
    "blood_types=['A','B','A','O','AB','AB','O','A','B','O','B','AB']"
   ]
  },
  {
   "cell_type": "code",
   "execution_count": 24,
   "metadata": {},
   "outputs": [
    {
     "name": "stdout",
     "output_type": "stream",
     "text": [
      "A형인 학생은 3명, B형인 학생은 3명, O형인 학생은 3명, AB형인 학생은 3명입니다\n"
     ]
    }
   ],
   "source": [
    "#정답\n",
    "stA=0\n",
    "stB=0\n",
    "stO=0\n",
    "stAB=0\n",
    "\n",
    "for student in blood_types:\n",
    "    if student=='A':\n",
    "        stA+=1\n",
    "    elif student=='B':\n",
    "        stB+=1\n",
    "    elif student=='O':\n",
    "        stO+=1\n",
    "    elif student=='AB':\n",
    "        stAB+=1\n",
    "        \n",
    "\n",
    "print(f'A형인 학생은 {stA}명, B형인 학생은 {stB}명, O형인 학생은 {stO}명, AB형인 학생은 {stAB}명입니다')"
   ]
  }
 ],
 "metadata": {
  "kernelspec": {
   "display_name": "Python 3",
   "language": "python",
   "name": "python3"
  },
  "language_info": {
   "codemirror_mode": {
    "name": "ipython",
    "version": 3
   },
   "file_extension": ".py",
   "mimetype": "text/x-python",
   "name": "python",
   "nbconvert_exporter": "python",
   "pygments_lexer": "ipython3",
   "version": "3.6.7"
  }
 },
 "nbformat": 4,
 "nbformat_minor": 2
}
